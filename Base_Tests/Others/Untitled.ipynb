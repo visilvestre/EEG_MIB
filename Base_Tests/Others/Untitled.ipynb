{
 "cells": [
  {
   "cell_type": "code",
   "execution_count": 15,
   "id": "3c798a1b-813c-443a-8ea7-ef83e1eb0c89",
   "metadata": {},
   "outputs": [],
   "source": [
    "import tensorflow as tf\n",
    "from tensorflow import keras"
   ]
  },
  {
   "cell_type": "code",
   "execution_count": 34,
   "id": "8b296cfe-3246-488d-82d5-ec30148f4938",
   "metadata": {},
   "outputs": [
    {
     "name": "stdout",
     "output_type": "stream",
     "text": [
      "tf.Tensor(\n",
      "[[-0.8140562   0.8031542  -1.0300479  -0.2602072  -1.6607195  -0.89462566\n",
      "   1.3653389  -0.76598334  0.7951272  -0.59535027]\n",
      " [ 0.9027702  -0.98538995  0.4489626  -0.5381796   0.05176629 -0.84623504\n",
      "  -0.05147726  0.06465504 -0.13427044  1.256677  ]\n",
      " [ 1.0203266  -1.1068016  -1.5425494  -0.38906413  0.6385947   0.5119138\n",
      "  -0.11158727 -1.9757162  -0.11919313  0.09350387]], shape=(3, 10), dtype=float32)\n"
     ]
    }
   ],
   "source": [
    "x = tf.random.normal(shape=(3, 10))\n",
    "print(x)"
   ]
  },
  {
   "cell_type": "code",
   "execution_count": 35,
   "id": "0e94f7b6-cdc6-4e62-9250-99b88b8f38f8",
   "metadata": {},
   "outputs": [
    {
     "name": "stdout",
     "output_type": "stream",
     "text": [
      "<tf.Variable 'Variable:0' shape=(3, 10) dtype=float32, numpy=\n",
      "array([[-0.16639055,  1.8621396 ,  1.5952841 , -0.02198732,  1.2010659 ,\n",
      "         2.5265124 ,  0.56241196,  0.49810216,  0.51164734, -0.70859563],\n",
      "       [ 0.2206368 ,  1.1500617 ,  0.01687999,  0.09464136,  1.8327093 ,\n",
      "         0.08962391,  1.0405595 , -0.10094868,  1.7242155 ,  1.6143506 ],\n",
      "       [-1.4703797 ,  0.25055054, -0.13980678, -0.027584  , -0.287042  ,\n",
      "         0.23640494, -2.0323553 , -0.18664008, -0.03102536, -1.8995535 ]],\n",
      "      dtype=float32)>\n"
     ]
    }
   ],
   "source": [
    "#Initialize the translation weights\n",
    "Wt_initial_value = tf.random.normal(x.shape)\n",
    "wt = tf.Variable(Wt_initial_value)\n",
    "print(wt)"
   ]
  },
  {
   "cell_type": "code",
   "execution_count": 36,
   "id": "a2d23f9f-7aea-4583-9597-23269e97ba52",
   "metadata": {},
   "outputs": [
    {
     "name": "stdout",
     "output_type": "stream",
     "text": [
      "<tf.Variable 'Variable:0' shape=(3, 10) dtype=float32, numpy=\n",
      "array([[ 0.20195241,  0.4478894 ,  1.2505057 , -0.3262428 , -0.12398466,\n",
      "        -0.43210876, -1.1440946 ,  0.17258835, -0.28988925,  1.4998627 ],\n",
      "       [ 0.09308425,  0.9406076 ,  0.5447096 ,  1.3697822 , -0.5909966 ,\n",
      "         0.00439011, -0.8456004 , -0.40787724, -0.42699522,  1.6847346 ],\n",
      "       [ 1.136125  ,  1.37759   ,  2.2391949 , -1.069701  ,  1.0363955 ,\n",
      "         0.48734328,  1.0430757 ,  0.0054862 ,  1.2267728 , -0.9123073 ]],\n",
      "      dtype=float32)>\n"
     ]
    }
   ],
   "source": [
    "#Initialize the dilation weights\n",
    "Wd_initial_value = tf.random.normal(x.shape)\n",
    "wd = tf.Variable(Wd_initial_value)\n",
    "print(wd)"
   ]
  },
  {
   "cell_type": "code",
   "execution_count": 37,
   "id": "0b25f85d-c95d-4a36-b5c9-0436289f420d",
   "metadata": {},
   "outputs": [],
   "source": [
    "def z(x,wd,wt):\n",
    "    a = tf.math.subtract(x,wt)\n",
    "    return tf.math.divide(a,wd)"
   ]
  },
  {
   "cell_type": "code",
   "execution_count": 38,
   "id": "ccb38293-f8e6-4eaa-8a00-0178bc873b59",
   "metadata": {},
   "outputs": [
    {
     "name": "stdout",
     "output_type": "stream",
     "text": [
      "tf.Tensor(\n",
      "[[-3.2070212e+00 -2.3643906e+00 -2.0994163e+00  7.3019201e-01\n",
      "   2.3081770e+01  7.9173079e+00 -7.0180118e-01 -7.3242807e+00\n",
      "  -9.7789025e-01  7.5503826e-02]\n",
      " [ 7.3281293e+00 -2.2702897e+00  7.9323477e-01 -4.6198654e-01\n",
      "   3.0134573e+00 -2.1317435e+02  1.2914337e+00 -4.0601367e-01\n",
      "   4.3524747e+00 -2.1230260e-01]\n",
      " [ 2.1922822e+00 -9.8530924e-01 -6.2644953e-01  3.3792633e-01\n",
      "   8.9313066e-01  5.6532806e-01  1.8414465e+00 -3.2610480e+02\n",
      "  -7.1869686e-02 -2.1846337e+00]], shape=(3, 10), dtype=float32)\n"
     ]
    }
   ],
   "source": [
    "calc = z(x,wd,wt)\n",
    "print(calc)"
   ]
  },
  {
   "cell_type": "code",
   "execution_count": 41,
   "id": "68a8596d-18b0-4ebc-b60c-f3c993c2a399",
   "metadata": {},
   "outputs": [],
   "source": [
    "z = tf.ones(x.shape)"
   ]
  },
  {
   "cell_type": "code",
   "execution_count": 43,
   "id": "198fe1e3-e4cf-4075-8565-f650cec55931",
   "metadata": {},
   "outputs": [
    {
     "name": "stdout",
     "output_type": "stream",
     "text": [
      "tf.Tensor(\n",
      "[ 5.9101162e+00  1.4013066e+00  1.0278983e+02  5.9135634e-02\n",
      "  8.1197160e-01  2.5552418e+01  2.4936271e+00 -6.7830720e+00\n",
      "  3.1473601e-01  7.3773187e-01], shape=(10,), dtype=float32)\n"
     ]
    }
   ],
   "source": [
    "for X, WD, WT in x, wd, wt:\n",
    "    Z = tf.math.divide(tf.math.subtract(X, WT),WD)\n",
    "    \n",
    "print(Z)"
   ]
  },
  {
   "cell_type": "code",
   "execution_count": null,
   "id": "4a5f4599-b143-437c-b62c-2a852c94b71f",
   "metadata": {},
   "outputs": [],
   "source": []
  }
 ],
 "metadata": {
  "kernelspec": {
   "display_name": "Python 3 (ipykernel)",
   "language": "python",
   "name": "python3"
  },
  "language_info": {
   "codemirror_mode": {
    "name": "ipython",
    "version": 3
   },
   "file_extension": ".py",
   "mimetype": "text/x-python",
   "name": "python",
   "nbconvert_exporter": "python",
   "pygments_lexer": "ipython3",
   "version": "3.9.12"
  }
 },
 "nbformat": 4,
 "nbformat_minor": 5
}
