{
 "cells": [
  {
   "cell_type": "code",
   "execution_count": 1,
   "id": "f02ebf0f-f30f-4d72-9ea4-534528b122cf",
   "metadata": {
    "gather": {
     "logged": 1655679563050
    },
    "pycharm": {
     "name": "#%%\n"
    }
   },
   "outputs": [],
   "source": [
    "import scipy.io\n",
    "import numpy as np\n",
    "import scipy.io.wavfile as wav"
   ]
  },
  {
   "cell_type": "code",
   "execution_count": 2,
   "id": "098ec5ba-3f7c-4661-a31c-dd8ac7397bbb",
   "metadata": {
    "gather": {
     "logged": 1655679577716
    },
    "pycharm": {
     "name": "#%%\n"
    }
   },
   "outputs": [
    {
     "ename": "FileNotFoundError",
     "evalue": "[Errno 2] No such file or directory: 'P1_a1.mat'",
     "output_type": "error",
     "traceback": [
      "\u001b[0;31m---------------------------------------------------------------------------\u001b[0m",
      "\u001b[0;31mFileNotFoundError\u001b[0m                         Traceback (most recent call last)",
      "File \u001b[0;32m~/miniforge3/lib/python3.9/site-packages/scipy/io/matlab/_mio.py:39\u001b[0m, in \u001b[0;36m_open_file\u001b[0;34m(file_like, appendmat, mode)\u001b[0m\n\u001b[1;32m     38\u001b[0m \u001b[38;5;28;01mtry\u001b[39;00m:\n\u001b[0;32m---> 39\u001b[0m     \u001b[38;5;28;01mreturn\u001b[39;00m \u001b[38;5;28;43mopen\u001b[39;49m\u001b[43m(\u001b[49m\u001b[43mfile_like\u001b[49m\u001b[43m,\u001b[49m\u001b[43m \u001b[49m\u001b[43mmode\u001b[49m\u001b[43m)\u001b[49m, \u001b[38;5;28;01mTrue\u001b[39;00m\n\u001b[1;32m     40\u001b[0m \u001b[38;5;28;01mexcept\u001b[39;00m \u001b[38;5;167;01mOSError\u001b[39;00m \u001b[38;5;28;01mas\u001b[39;00m e:\n\u001b[1;32m     41\u001b[0m     \u001b[38;5;66;03m# Probably \"not found\"\u001b[39;00m\n",
      "\u001b[0;31mFileNotFoundError\u001b[0m: [Errno 2] No such file or directory: 'P1_a1.mat'",
      "\nDuring handling of the above exception, another exception occurred:\n",
      "\u001b[0;31mFileNotFoundError\u001b[0m                         Traceback (most recent call last)",
      "Input \u001b[0;32mIn [2]\u001b[0m, in \u001b[0;36m<cell line: 1>\u001b[0;34m()\u001b[0m\n\u001b[0;32m----> 1\u001b[0m mat \u001b[38;5;241m=\u001b[39m \u001b[43mscipy\u001b[49m\u001b[38;5;241;43m.\u001b[39;49m\u001b[43mio\u001b[49m\u001b[38;5;241;43m.\u001b[39;49m\u001b[43mloadmat\u001b[49m\u001b[43m(\u001b[49m\u001b[38;5;124;43m'\u001b[39;49m\u001b[38;5;124;43mP1_a1.mat\u001b[39;49m\u001b[38;5;124;43m'\u001b[39;49m\u001b[43m)\u001b[49m\n\u001b[1;32m      2\u001b[0m wav\u001b[38;5;241m.\u001b[39mread(\u001b[38;5;124m'\u001b[39m\u001b[38;5;124m21-25-C-tonic.wav\u001b[39m\u001b[38;5;124m'\u001b[39m)\n",
      "File \u001b[0;32m~/miniforge3/lib/python3.9/site-packages/scipy/io/matlab/_mio.py:224\u001b[0m, in \u001b[0;36mloadmat\u001b[0;34m(file_name, mdict, appendmat, **kwargs)\u001b[0m\n\u001b[1;32m     87\u001b[0m \u001b[38;5;124;03m\"\"\"\u001b[39;00m\n\u001b[1;32m     88\u001b[0m \u001b[38;5;124;03mLoad MATLAB file.\u001b[39;00m\n\u001b[1;32m     89\u001b[0m \n\u001b[0;32m   (...)\u001b[0m\n\u001b[1;32m    221\u001b[0m \u001b[38;5;124;03m    3.14159265+3.14159265j])\u001b[39;00m\n\u001b[1;32m    222\u001b[0m \u001b[38;5;124;03m\"\"\"\u001b[39;00m\n\u001b[1;32m    223\u001b[0m variable_names \u001b[38;5;241m=\u001b[39m kwargs\u001b[38;5;241m.\u001b[39mpop(\u001b[38;5;124m'\u001b[39m\u001b[38;5;124mvariable_names\u001b[39m\u001b[38;5;124m'\u001b[39m, \u001b[38;5;28;01mNone\u001b[39;00m)\n\u001b[0;32m--> 224\u001b[0m \u001b[38;5;28;01mwith\u001b[39;00m _open_file_context(file_name, appendmat) \u001b[38;5;28;01mas\u001b[39;00m f:\n\u001b[1;32m    225\u001b[0m     MR, _ \u001b[38;5;241m=\u001b[39m mat_reader_factory(f, \u001b[38;5;241m*\u001b[39m\u001b[38;5;241m*\u001b[39mkwargs)\n\u001b[1;32m    226\u001b[0m     matfile_dict \u001b[38;5;241m=\u001b[39m MR\u001b[38;5;241m.\u001b[39mget_variables(variable_names)\n",
      "File \u001b[0;32m~/miniforge3/lib/python3.9/contextlib.py:119\u001b[0m, in \u001b[0;36m_GeneratorContextManager.__enter__\u001b[0;34m(self)\u001b[0m\n\u001b[1;32m    117\u001b[0m \u001b[38;5;28;01mdel\u001b[39;00m \u001b[38;5;28mself\u001b[39m\u001b[38;5;241m.\u001b[39margs, \u001b[38;5;28mself\u001b[39m\u001b[38;5;241m.\u001b[39mkwds, \u001b[38;5;28mself\u001b[39m\u001b[38;5;241m.\u001b[39mfunc\n\u001b[1;32m    118\u001b[0m \u001b[38;5;28;01mtry\u001b[39;00m:\n\u001b[0;32m--> 119\u001b[0m     \u001b[38;5;28;01mreturn\u001b[39;00m \u001b[38;5;28;43mnext\u001b[39;49m\u001b[43m(\u001b[49m\u001b[38;5;28;43mself\u001b[39;49m\u001b[38;5;241;43m.\u001b[39;49m\u001b[43mgen\u001b[49m\u001b[43m)\u001b[49m\n\u001b[1;32m    120\u001b[0m \u001b[38;5;28;01mexcept\u001b[39;00m \u001b[38;5;167;01mStopIteration\u001b[39;00m:\n\u001b[1;32m    121\u001b[0m     \u001b[38;5;28;01mraise\u001b[39;00m \u001b[38;5;167;01mRuntimeError\u001b[39;00m(\u001b[38;5;124m\"\u001b[39m\u001b[38;5;124mgenerator didn\u001b[39m\u001b[38;5;124m'\u001b[39m\u001b[38;5;124mt yield\u001b[39m\u001b[38;5;124m\"\u001b[39m) \u001b[38;5;28;01mfrom\u001b[39;00m \u001b[38;5;28mNone\u001b[39m\n",
      "File \u001b[0;32m~/miniforge3/lib/python3.9/site-packages/scipy/io/matlab/_mio.py:17\u001b[0m, in \u001b[0;36m_open_file_context\u001b[0;34m(file_like, appendmat, mode)\u001b[0m\n\u001b[1;32m     15\u001b[0m \u001b[38;5;129m@contextmanager\u001b[39m\n\u001b[1;32m     16\u001b[0m \u001b[38;5;28;01mdef\u001b[39;00m \u001b[38;5;21m_open_file_context\u001b[39m(file_like, appendmat, mode\u001b[38;5;241m=\u001b[39m\u001b[38;5;124m'\u001b[39m\u001b[38;5;124mrb\u001b[39m\u001b[38;5;124m'\u001b[39m):\n\u001b[0;32m---> 17\u001b[0m     f, opened \u001b[38;5;241m=\u001b[39m \u001b[43m_open_file\u001b[49m\u001b[43m(\u001b[49m\u001b[43mfile_like\u001b[49m\u001b[43m,\u001b[49m\u001b[43m \u001b[49m\u001b[43mappendmat\u001b[49m\u001b[43m,\u001b[49m\u001b[43m \u001b[49m\u001b[43mmode\u001b[49m\u001b[43m)\u001b[49m\n\u001b[1;32m     18\u001b[0m     \u001b[38;5;28;01mtry\u001b[39;00m:\n\u001b[1;32m     19\u001b[0m         \u001b[38;5;28;01myield\u001b[39;00m f\n",
      "File \u001b[0;32m~/miniforge3/lib/python3.9/site-packages/scipy/io/matlab/_mio.py:45\u001b[0m, in \u001b[0;36m_open_file\u001b[0;34m(file_like, appendmat, mode)\u001b[0m\n\u001b[1;32m     43\u001b[0m     \u001b[38;5;28;01mif\u001b[39;00m appendmat \u001b[38;5;129;01mand\u001b[39;00m \u001b[38;5;129;01mnot\u001b[39;00m file_like\u001b[38;5;241m.\u001b[39mendswith(\u001b[38;5;124m'\u001b[39m\u001b[38;5;124m.mat\u001b[39m\u001b[38;5;124m'\u001b[39m):\n\u001b[1;32m     44\u001b[0m         file_like \u001b[38;5;241m+\u001b[39m\u001b[38;5;241m=\u001b[39m \u001b[38;5;124m'\u001b[39m\u001b[38;5;124m.mat\u001b[39m\u001b[38;5;124m'\u001b[39m\n\u001b[0;32m---> 45\u001b[0m     \u001b[38;5;28;01mreturn\u001b[39;00m \u001b[38;5;28;43mopen\u001b[39;49m\u001b[43m(\u001b[49m\u001b[43mfile_like\u001b[49m\u001b[43m,\u001b[49m\u001b[43m \u001b[49m\u001b[43mmode\u001b[49m\u001b[43m)\u001b[49m, \u001b[38;5;28;01mTrue\u001b[39;00m\n\u001b[1;32m     46\u001b[0m \u001b[38;5;28;01melse\u001b[39;00m:\n\u001b[1;32m     47\u001b[0m     \u001b[38;5;28;01mraise\u001b[39;00m \u001b[38;5;167;01mOSError\u001b[39;00m(\n\u001b[1;32m     48\u001b[0m         \u001b[38;5;124m'\u001b[39m\u001b[38;5;124mReader needs file name or open file-like object\u001b[39m\u001b[38;5;124m'\u001b[39m\n\u001b[1;32m     49\u001b[0m     ) \u001b[38;5;28;01mfrom\u001b[39;00m \u001b[38;5;21;01me\u001b[39;00m\n",
      "\u001b[0;31mFileNotFoundError\u001b[0m: [Errno 2] No such file or directory: 'P1_a1.mat'"
     ]
    }
   ],
   "source": [
    "mat = scipy.io.loadmat('P1_a1.mat')\n",
    "wav.read('21-25-C-tonic.wav')"
   ]
  },
  {
   "cell_type": "code",
   "execution_count": 3,
   "id": "393f9b25-e2db-4661-b473-58185410b6d5",
   "metadata": {
    "gather": {
     "logged": 1655679577948
    },
    "pycharm": {
     "name": "#%%\n"
    }
   },
   "outputs": [
    {
     "data": {
      "text/plain": [
       "dict"
      ]
     },
     "execution_count": 3,
     "metadata": {},
     "output_type": "execute_result"
    }
   ],
   "source": [
    "type(mat)"
   ]
  },
  {
   "cell_type": "code",
   "execution_count": 4,
   "id": "e3caa992-24e3-457c-8f91-4b04b9a55e93",
   "metadata": {
    "gather": {
     "logged": 1655679578101
    },
    "pycharm": {
     "name": "#%%\n"
    }
   },
   "outputs": [
    {
     "name": "stdout",
     "output_type": "stream",
     "text": [
      "__header__\n",
      "__version__\n",
      "__globals__\n",
      "sessionID\n",
      "fs\n",
      "xContinuous\n",
      "triggers\n",
      "onsets\n"
     ]
    }
   ],
   "source": [
    "for a in mat:\n",
    "    print(a)"
   ]
  },
  {
   "cell_type": "code",
   "execution_count": 5,
   "id": "e4a026c2-dc25-4e6f-91cf-b9cb55349b37",
   "metadata": {
    "gather": {
     "logged": 1655679578326
    },
    "pycharm": {
     "name": "#%%\n"
    }
   },
   "outputs": [
    {
     "data": {
      "text/plain": [
       "(129, 1344711)"
      ]
     },
     "execution_count": 5,
     "metadata": {},
     "output_type": "execute_result"
    }
   ],
   "source": [
    "np.shape(mat['xContinuous'])"
   ]
  },
  {
   "cell_type": "code",
   "execution_count": 6,
   "id": "f9f7babd-e9b7-44a9-a531-54a8ebaa9eac",
   "metadata": {
    "gather": {
     "logged": 1655679578835
    },
    "pycharm": {
     "name": "#%%\n"
    }
   },
   "outputs": [
    {
     "data": {
      "text/plain": [
       "[<matplotlib.lines.Line2D at 0x7ff8c7a3d490>]"
      ]
     },
     "execution_count": 6,
     "metadata": {},
     "output_type": "execute_result"
    }
   ],
   "source": [
    "import matplotlib.pyplot as plt\n",
    "\n",
    "x = np.arange(0, 10000, 1)\n",
    "\n",
    "plt.plot(x, mat['xContinuous'][0,10000:20000])"
   ]
  },
  {
   "cell_type": "code",
   "execution_count": 7,
   "id": "2c10704d-5172-4480-b3eb-ad09cd97ca30",
   "metadata": {
    "gather": {
     "logged": 1655679579072
    },
    "pycharm": {
     "name": "#%%\n"
    }
   },
   "outputs": [
    {
     "data": {
      "text/plain": [
       "array([[41],\n",
       "       [42],\n",
       "       [43],\n",
       "       ...,\n",
       "       [73],\n",
       "       [74],\n",
       "       [75]], dtype=uint8)"
      ]
     },
     "execution_count": 7,
     "metadata": {},
     "output_type": "execute_result"
    }
   ],
   "source": [
    "mat['triggers']"
   ]
  },
  {
   "cell_type": "code",
   "execution_count": 8,
   "id": "b4fba24e-210c-4fa1-9738-17f1044998b7",
   "metadata": {
    "gather": {
     "logged": 1655679579329
    },
    "pycharm": {
     "name": "#%%\n"
    }
   },
   "outputs": [
    {
     "data": {
      "text/plain": [
       "array([[  13917],\n",
       "       [  14542],\n",
       "       [  15167],\n",
       "       ...,\n",
       "       [1284962],\n",
       "       [1285587],\n",
       "       [1286212]], dtype=int32)"
      ]
     },
     "execution_count": 8,
     "metadata": {},
     "output_type": "execute_result"
    }
   ],
   "source": [
    "mat['onsets']"
   ]
  },
  {
   "cell_type": "code",
   "execution_count": 9,
   "id": "b93d8a6b-f1dc-44a0-a93e-eb82c8fb055d",
   "metadata": {
    "gather": {
     "logged": 1655679579560
    },
    "pycharm": {
     "name": "#%%\n"
    }
   },
   "outputs": [
    {
     "data": {
      "text/plain": [
       "array([625], dtype=int32)"
      ]
     },
     "execution_count": 9,
     "metadata": {},
     "output_type": "execute_result"
    }
   ],
   "source": [
    "n = 1209\n",
    "mat['onsets'][n]-mat['onsets'][n-1]"
   ]
  },
  {
   "cell_type": "code",
   "execution_count": 10,
   "id": "4c126b6b-7d37-4e3b-b958-12a8cc45f7a2",
   "metadata": {
    "gather": {
     "logged": 1655679579787
    },
    "pycharm": {
     "name": "#%%\n"
    }
   },
   "outputs": [
    {
     "data": {
      "text/plain": [
       "[<matplotlib.lines.Line2D at 0x7ff8c5a11400>]"
      ]
     },
     "execution_count": 10,
     "metadata": {},
     "output_type": "execute_result"
    }
   ],
   "source": [
    "start = mat['onsets'][119]\n",
    "end = mat['onsets'][124]\n",
    "\n",
    "x = np.arange(start, end, 1)\n",
    "\n",
    "plt.plot(x, mat['xContinuous'][0,start[0]:end[0]])"
   ]
  },
  {
   "cell_type": "code",
   "execution_count": 11,
   "id": "34b4d118-276f-48c7-9ad4-b5c63486a49b",
   "metadata": {
    "gather": {
     "logged": 1655679579938
    },
    "pycharm": {
     "name": "#%%\n"
    }
   },
   "outputs": [],
   "source": [
    "##deviant = []\n",
    "##\n",
    "##for n in d:\n",
    "##    start = mat['onsets'][n-5]\n",
    "##    end = mat['onsets'][n]\n",
    "##    deviant.append(mat['xContinuous'][0,start[0]:end[0]])\n",
    "\n",
    "### Find silence points in triggers\n",
    "##for t in mat['triggers']:\n",
    "##    if t in [40,60,80]:\n",
    "##        print(t)"
   ]
  },
  {
   "cell_type": "code",
   "execution_count": 12,
   "id": "b9ac6dc9-08cc-42ee-bb31-ce047217dfaf",
   "metadata": {
    "gather": {
     "logged": 1655679580088
    },
    "pycharm": {
     "name": "#%%\n"
    },
    "tags": []
   },
   "outputs": [
    {
     "name": "stdout",
     "output_type": "stream",
     "text": [
      "[  19   29   44   59   69   89  104  124  134  149  169  179  194  204\n",
      "  224  244  254  269  289  299  314  334  349  359  374  384  404  424\n",
      "  439  449  464  479  494  514  529  539  554  569  584  604  614  629\n",
      "  644  654  674  694  709  719  739  749  764  779  799  809  829  844\n",
      "  854  869  884  899  914  924  944  959  969  989 1004 1024 1034 1054\n",
      " 1064 1079 1094 1114 1124 1139 1159 1169 1184 1194 1214]\n"
     ]
    }
   ],
   "source": [
    "#Find indexes d where the number is in the list ( list of deviant triggers ) \n",
    "d,j = np.where(mat['triggers'] == [30,35,40,50,55,60,70,75,80])\n",
    "print(d)\n",
    "\n",
    "\n",
    "#Get chunks of data from deviant trials\n",
    "deviant = []\n",
    "\n",
    "for n in d:\n",
    "    start = mat['onsets'][n] #start 4 chords before\n",
    "    if n == 1214:\n",
    "        end = mat['onsets'][1214] + 625\n",
    "    else:\n",
    "        end = mat['onsets'][n+1]   #end when the next onset starts\n",
    "        deviant.append(mat['xContinuous'][:,start[0]:end[0]])\n",
    "\n",
    "#Used to print when only one channel was selected..\n",
    "#a = len(deviant)\n",
    "#i = 0\n",
    "#while i < a:\n",
    "#    x = np.arange(0, np.shape(deviant[i])[0], 1)\n",
    "#    plt.plot(x, deviant[i])\n",
    "#    i+=1"
   ]
  },
  {
   "cell_type": "code",
   "execution_count": 13,
   "id": "47c802a2-9011-48f1-b44c-7933f6933681",
   "metadata": {
    "gather": {
     "logged": 1655679580243
    },
    "pycharm": {
     "name": "#%%\n"
    }
   },
   "outputs": [
    {
     "name": "stdout",
     "output_type": "stream",
     "text": [
      "[   4    9   14   24   34   39   49   54   64   74   79   84   94   99\n",
      "  109  114  119  129  139  144  154  159  164  174  184  189  199  209\n",
      "  214  219  229  234  239  249  259  264  274  279  284  294  304  309\n",
      "  319  324  329  339  344  354  364  369  379  389  394  399  409  414\n",
      "  419  429  434  444  454  459  469  474  484  489  499  504  509  519\n",
      "  524  534  544  549  559  564  574  579  589  594  599  609  619  624\n",
      "  634  639  649  659  664  669  679  684  689  699  704  714  724  729\n",
      "  734  744  754  759  769  774  784  789  794  804  814  819  824  834\n",
      "  839  849  859  864  874  879  889  894  904  909  919  929  934  939\n",
      "  949  954  964  974  979  984  994  999 1009 1014 1019 1029 1039 1044\n",
      " 1049 1059 1069 1074 1084 1089 1099 1104 1109 1119 1129 1134 1144 1149\n",
      " 1154 1164 1174 1179 1189 1199 1204 1209]\n"
     ]
    }
   ],
   "source": [
    "#Find indexes d where the number is in the list ( list of deviant triggers ) \n",
    "d,j = np.where(mat['triggers'] == [25,65,45])\n",
    "print(d)\n",
    "\n",
    "\n",
    "#Get chunks of data from deviant trials\n",
    "tonic = []\n",
    "\n",
    "for n in d:\n",
    "    start = mat['onsets'][n] #start 4 chords before\n",
    "    if n == 1214:\n",
    "        end = mat['onsets'][1214] + 625\n",
    "    else:\n",
    "        end = mat['onsets'][n+1]   #end when the next onset starts\n",
    "    tonic.append(mat['xContinuous'][:,start[0]:end[0]])\n",
    "\n",
    "#Used to print when only one channel was selected..\n",
    "#a = len(tonic)\n",
    "#i = 0\n",
    "#while i < a:\n",
    "#    x = np.arange(0, np.shape(tonic[i])[0], 1)\n",
    "#    plt.plot(x, tonic[i])\n",
    "#    i+=1"
   ]
  },
  {
   "cell_type": "code",
   "execution_count": 14,
   "id": "7540c36b-18ea-4614-873f-0493e18b89e4",
   "metadata": {
    "gather": {
     "logged": 1655679580405
    },
    "pycharm": {
     "name": "#%%\n"
    }
   },
   "outputs": [
    {
     "name": "stdout",
     "output_type": "stream",
     "text": [
      "(129, 2501)\n",
      "(129, 2500)\n",
      "(129, 5056)\n",
      "(129, 2501)\n",
      "(129, 2500)\n",
      "(129, 3552)\n",
      "(129, 2501)\n",
      "(129, 2501)\n",
      "(129, 5402)\n",
      "(129, 2501)\n",
      "(129, 2500)\n",
      "(129, 6294)\n",
      "(129, 2500)\n",
      "(129, 2501)\n",
      "(129, 4709)\n",
      "(129, 2501)\n",
      "(129, 2500)\n",
      "(129, 4137)\n",
      "(129, 2500)\n",
      "(129, 2500)\n",
      "(129, 6188)\n",
      "(129, 2501)\n",
      "(129, 2502)\n",
      "(129, 5934)\n",
      "(129, 2500)\n",
      "(129, 2501)\n",
      "(129, 5109)\n",
      "(129, 2500)\n",
      "(129, 2502)\n",
      "(129, 4510)\n",
      "(129, 2500)\n",
      "(129, 2500)\n",
      "(129, 4031)\n",
      "(129, 2501)\n",
      "(129, 2500)\n",
      "(129, 4550)\n",
      "(129, 2500)\n",
      "(129, 2501)\n",
      "(129, 4124)\n",
      "(129, 2500)\n",
      "(129, 2501)\n",
      "(129, 4138)\n",
      "(129, 2500)\n",
      "(129, 2501)\n",
      "(129, 4203)\n",
      "(129, 2500)\n",
      "(129, 2500)\n",
      "(129, 5243)\n",
      "(129, 2500)\n",
      "(129, 2500)\n",
      "(129, 5149)\n",
      "(129, 2501)\n",
      "(129, 2502)\n",
      "(129, 6693)\n",
      "(129, 2500)\n",
      "(129, 2500)\n",
      "(129, 6414)\n",
      "(129, 2501)\n",
      "(129, 2501)\n",
      "(129, 4616)\n",
      "(129, 2500)\n",
      "(129, 2501)\n",
      "(129, 3991)\n",
      "(129, 2500)\n",
      "(129, 2501)\n",
      "(129, 4204)\n",
      "(129, 2501)\n",
      "(129, 2502)\n",
      "(129, 4736)\n",
      "(129, 2501)\n",
      "(129, 2500)\n",
      "(129, 4004)\n",
      "(129, 2502)\n",
      "(129, 2500)\n",
      "(129, 3952)\n",
      "(129, 2501)\n",
      "(129, 2502)\n",
      "(129, 3765)\n",
      "(129, 2501)\n",
      "(129, 2500)\n"
     ]
    }
   ],
   "source": [
    "for d in deviant:\n",
    "    print(np.shape(d))"
   ]
  },
  {
   "cell_type": "code",
   "execution_count": 15,
   "id": "76b4bb72-e5f4-4367-a9e3-f589deeb8386",
   "metadata": {
    "gather": {
     "logged": 1655679581547
    },
    "pycharm": {
     "name": "#%%\n"
    }
   },
   "outputs": [
    {
     "name": "stdout",
     "output_type": "stream",
     "text": [
      "(242, 129, 2500)\n",
      "[1. 1. 1. 1. 1. 1. 1. 1. 1. 1. 1. 1. 1. 1. 1. 1. 1. 1. 1. 1. 1. 1. 1. 1.\n",
      " 1. 1. 1. 1. 1. 1. 1. 1. 1. 1. 1. 1. 1. 1. 1. 1. 1. 1. 1. 1. 1. 1. 1. 1.\n",
      " 1. 1. 1. 1. 1. 1. 1. 1. 1. 1. 1. 1. 1. 1. 1. 1. 1. 1. 1. 1. 1. 1. 1. 1.\n",
      " 1. 1. 1. 1. 1. 1. 1. 1. 1. 1. 1. 1. 1. 1. 1. 1. 1. 1. 1. 1. 1. 1. 1. 1.\n",
      " 1. 1. 1. 1. 1. 1. 1. 1. 1. 1. 1. 1. 1. 1. 1. 1. 1. 1. 1. 1. 1. 1. 1. 1.\n",
      " 1. 1. 1. 1. 1. 1. 1. 1. 1. 1. 1. 1. 1. 1. 1. 1. 1. 1. 1. 1. 1. 1. 1. 1.\n",
      " 1. 1. 1. 1. 1. 1. 1. 1. 1. 1. 1. 1. 1. 1. 1. 1. 1. 1. 0. 0. 0. 0. 0. 0.\n",
      " 0. 0. 0. 0. 0. 0. 0. 0. 0. 0. 0. 0. 0. 0. 0. 0. 0. 0. 0. 0. 0. 0. 0. 0.\n",
      " 0. 0. 0. 0. 0. 0. 0. 0. 0. 0. 0. 0. 0. 0. 0. 0. 0. 0. 0. 0. 0. 0. 0. 0.\n",
      " 0. 0. 0. 0. 0. 0. 0. 0. 0. 0. 0. 0. 0. 0. 0. 0. 0. 0. 0. 0. 0. 0. 0. 0.\n",
      " 0. 0.]\n"
     ]
    }
   ],
   "source": [
    "#Distribute data into X\n",
    "x = np.zeros((len(tonic)+len(deviant),129,2500))\n",
    "print(np.shape(x))\n",
    "i = 0\n",
    "for t in tonic:\n",
    "    x[i,:,0:2500] = t[:,0:2500]\n",
    "    i += 1\n",
    "    \n",
    "for d in deviant:\n",
    "    x[i,:,0:2500] = d[:,0:2500]\n",
    "    i += 1\n",
    "\n",
    "y = np.zeros(len(tonic)+len(deviant))\n",
    "\n",
    "y[0:len(tonic)] = np.ones(len(tonic))\n",
    "\n",
    "print(y)"
   ]
  },
  {
   "cell_type": "code",
   "execution_count": 16,
   "id": "29e778de-fba2-4657-8176-577961738cfc",
   "metadata": {
    "gather": {
     "logged": 1655679581715
    },
    "pycharm": {
     "name": "#%%\n"
    }
   },
   "outputs": [
    {
     "name": "stdout",
     "output_type": "stream",
     "text": [
      "(242, 129, 2500)\n"
     ]
    }
   ],
   "source": [
    "print(np.shape(x))"
   ]
  },
  {
   "cell_type": "code",
   "execution_count": 17,
   "id": "5688a1bd-e908-4549-9d25-13610e05a8f7",
   "metadata": {
    "gather": {
     "logged": 1655679581869
    },
    "pycharm": {
     "name": "#%%\n"
    }
   },
   "outputs": [],
   "source": [
    "#Shuffle Data\n",
    "shuffler = np.random.permutation(len(x))\n",
    "x_shuffled = x[shuffler]\n",
    "y_shuffled = y[shuffler]"
   ]
  },
  {
   "cell_type": "code",
   "execution_count": 18,
   "id": "1e3215da-2b67-4dc6-a234-c24a81dac8c4",
   "metadata": {
    "gather": {
     "logged": 1655679582024
    },
    "pycharm": {
     "name": "#%%\n"
    }
   },
   "outputs": [],
   "source": [
    "# ================================/ Classifiers /================================\n",
    "\n",
    "# From Github: https://github.com/vlawhern/arl-eegmodels/blob/master/EEGModels.py\n",
    "from tensorflow.keras.models import Model\n",
    "from tensorflow.keras.layers import Dense, Activation, Permute, Dropout\n",
    "from tensorflow.keras.layers import Conv2D, MaxPooling2D, AveragePooling2D\n",
    "from tensorflow.keras.layers import SeparableConv2D, DepthwiseConv2D\n",
    "from tensorflow.keras.layers import BatchNormalization\n",
    "from tensorflow.keras.layers import SpatialDropout2D\n",
    "from tensorflow.keras.regularizers import l1_l2\n",
    "from tensorflow.keras.layers import Input, Flatten\n",
    "from tensorflow.keras.constraints import max_norm\n",
    "from tensorflow.keras import backend as K\n",
    "\n",
    "#Original DeepConvNet\n",
    "def DeepConvNet(nb_classes, Chans = 129, Samples = 4999, dropoutRate = 0.5):\n",
    "    \"\"\" Keras implementation of the Deep Convolutional Network as described in\n",
    "    Schirrmeister et. al. (2017), Human Brain Mapping.\n",
    "    \n",
    "    This implementation assumes the input is a 2-second EEG signal sampled at \n",
    "    128Hz, as opposed to signals sampled at 250Hz as described in the original\n",
    "    paper. We also perform temporal convolutions of length (1, 5) as opposed\n",
    "    to (1, 10) due to this sampling rate difference. \n",
    "    \n",
    "    Note that we use the max_norm constraint on all convolutional layers, as \n",
    "    well as the classification layer. We also change the defaults for the\n",
    "    BatchNormalization layer. We used this based on a personal communication \n",
    "    with the original authors.\n",
    "    \n",
    "                      ours        original paper\n",
    "    pool_size        1, 2        1, 3\n",
    "    strides          1, 2        1, 3\n",
    "    conv filters     1, 5        1, 10\n",
    "    \n",
    "    Note that this implementation has not been verified by the original \n",
    "    authors. \n",
    "    \n",
    "    \"\"\"\n",
    "\n",
    "    # start the model\n",
    "    input_main   = Input((Chans, Samples, 1))\n",
    "    block1       = Conv2D(25, (1, 5), \n",
    "                                 input_shape=(Chans, Samples, 1),\n",
    "                                 kernel_constraint = max_norm(2., axis=(0,1,2)))(input_main)\n",
    "    block1       = Conv2D(25, (Chans, 1),\n",
    "                                 kernel_constraint = max_norm(2., axis=(0,1,2)))(block1)\n",
    "    block1       = BatchNormalization(epsilon=1e-05, momentum=0.1)(block1)\n",
    "    block1       = Activation('elu')(block1)\n",
    "    block1       = MaxPooling2D(pool_size=(1, 2), strides=(1, 2))(block1)\n",
    "    block1       = Dropout(dropoutRate)(block1)\n",
    "  \n",
    "    block2       = Conv2D(50, (1, 5),\n",
    "                                 kernel_constraint = max_norm(2., axis=(0,1,2)))(block1)\n",
    "    block2       = BatchNormalization(epsilon=1e-05, momentum=0.1)(block2)\n",
    "    block2       = Activation('elu')(block2)\n",
    "    block2       = MaxPooling2D(pool_size=(1, 2), strides=(1, 2))(block2)\n",
    "    block2       = Dropout(dropoutRate)(block2)\n",
    "    \n",
    "    block3       = Conv2D(100, (1, 5),\n",
    "                                 kernel_constraint = max_norm(2., axis=(0,1,2)))(block2)\n",
    "    block3       = BatchNormalization(epsilon=1e-05, momentum=0.1)(block3)\n",
    "    block3       = Activation('elu')(block3)\n",
    "    block3       = MaxPooling2D(pool_size=(1, 2), strides=(1, 2))(block3)\n",
    "    block3       = Dropout(dropoutRate)(block3)\n",
    "    \n",
    "    block4       = Conv2D(200, (1, 5),\n",
    "                                 kernel_constraint = max_norm(2., axis=(0,1,2)))(block3)\n",
    "    block4       = BatchNormalization(epsilon=1e-05, momentum=0.1)(block4)\n",
    "    block4       = Activation('elu')(block4)\n",
    "    block4       = MaxPooling2D(pool_size=(1, 2), strides=(1, 2))(block4)\n",
    "    block4       = Dropout(dropoutRate)(block4)\n",
    "    \n",
    "    flatten      = Flatten()(block4)\n",
    "    \n",
    "    dense        = Dense(nb_classes, kernel_constraint = max_norm(0.5))(flatten)\n",
    "    softmax      = Activation('softmax')(dense)\n",
    "    \n",
    "    return Model(inputs=input_main, outputs=softmax)\n",
    "\n",
    "def NeuralNet(nb_classes, Chans = 129, Samples = 4999, dropoutRate = 0.5):\n",
    "\n",
    "    input_main = Input((Chans, Samples, 1))\n",
    "    block1 = Dense(32,input_shape=(Chans, Samples, 1), activation=\"elu\")(input_main)\n",
    "    block2 = Dense(200, activation=\"elu\")(block1)\n",
    "    block3 = Dense(400, activation=\"elu\")(block2)\n",
    "    block4 = Dense(200, activation=\"elu\")(block3)\n",
    "    \n",
    "    flatten = Flatten()(block4)\n",
    "    \n",
    "    block5 = Dense(nb_classes, activation=\"elu\")(flatten)\n",
    "\n",
    "    \n",
    "    soft   = Activation('softmax')(block5)\n",
    "            \n",
    "    return Model(inputs = input_main, outputs = soft)"
   ]
  },
  {
   "cell_type": "markdown",
   "id": "13d67e64-314b-493b-b42e-4fc4ca994e39",
   "metadata": {
    "nteract": {
     "transient": {
      "deleting": false
     }
    }
   },
   "source": [
    "## Run against a common Neural Network\n",
    "\n",
    "configuration:\n",
    "Dense(32) -> Dense(200) -> Dense(400) -> Flatten -> Dense(nb_classes) -> Softmax ->result"
   ]
  },
  {
   "cell_type": "code",
   "execution_count": 19,
   "id": "d689a1ef-0fb5-4b4f-82c7-dc4456b37a1a",
   "metadata": {
    "collapsed": false,
    "gather": {
     "logged": 1655679584130
    },
    "jupyter": {
     "outputs_hidden": false,
     "source_hidden": false
    },
    "nteract": {
     "transient": {
      "deleting": false
     }
    }
   },
   "outputs": [],
   "source": [
    "#Shuffle Data\n",
    "shuffler = np.random.permutation(len(x))\n",
    "x_shuffled = x[shuffler]\n",
    "y_shuffled = y[shuffler]"
   ]
  },
  {
   "cell_type": "code",
   "execution_count": 20,
   "id": "1c73509a-0b02-4531-859f-6a047dabb35b",
   "metadata": {
    "collapsed": false,
    "gather": {
     "logged": 1655679584289
    },
    "jupyter": {
     "outputs_hidden": false,
     "source_hidden": false
    },
    "nteract": {
     "transient": {
      "deleting": false
     }
    }
   },
   "outputs": [
    {
     "name": "stdout",
     "output_type": "stream",
     "text": [
      "(242,)\n",
      "(242, 2)\n"
     ]
    }
   ],
   "source": [
    "# Organize Label for Neural Network Cross Entropy validation\n",
    "\n",
    "print(np.shape(y_shuffled))\n",
    "\n",
    "y_nn = np.zeros((242,2))\n",
    "\n",
    "print(np.shape(y_nn))\n",
    "\n",
    "i = 0\n",
    "\n",
    "while i < 242:\n",
    "    if y_shuffled[i] == 1:\n",
    "        y_nn[i][0] = 1\n",
    "    else:\n",
    "        y_nn[i][1] = 1\n",
    "    i += 1\n"
   ]
  },
  {
   "cell_type": "code",
   "execution_count": 21,
   "id": "d648d77e-328b-4b57-ad8c-a08918e510bf",
   "metadata": {
    "gather": {
     "logged": 1655679867010
    },
    "pycharm": {
     "is_executing": true,
     "name": "#%%\n"
    }
   },
   "outputs": [
    {
     "name": "stdout",
     "output_type": "stream",
     "text": [
      "Epoch 1/30\n",
      "7/7 [==============================] - 11s 1s/step - loss: 52690.5898 - accuracy: 0.63\n",
      "Epoch 2/30\n",
      "7/7 [==============================] - 9s 1s/step - loss: 0.8133 - accuracy: 0.669\n",
      "Epoch 3/30\n",
      "7/7 [==============================] - 9s 1s/step - loss: 0.8133 - accuracy: 0.669\n",
      "Epoch 4/30\n",
      "7/7 [==============================] - 9s 1s/step - loss: 0.8133 - accuracy: 0.669\n",
      "Epoch 5/30\n",
      "7/7 [==============================] - 10s 1s/step - loss: 0.8133 - accuracy: 0.66\n",
      "Epoch 6/30\n",
      "7/7 [==============================] - 10s 1s/step - loss: 0.8133 - accuracy: 0.66\n",
      "Epoch 7/30\n",
      "7/7 [==============================] - 9s 1s/step - loss: 0.8133 - accuracy: 0.669\n",
      "Epoch 8/30\n",
      "7/7 [==============================] - 9s 1s/step - loss: 0.8133 - accuracy: 0.669\n",
      "Epoch 9/30\n",
      "7/7 [==============================] - 9s 1s/step - loss: 0.8133 - accuracy: 0.669\n",
      "Epoch 10/30\n",
      "7/7 [==============================] - 9s 1s/step - loss: 0.8133 - accuracy: 0.669\n",
      "Epoch 11/30\n",
      "7/7 [==============================] - 9s 1s/step - loss: 0.8133 - accuracy: 0.669\n",
      "Epoch 12/30\n",
      "7/7 [==============================] - 9s 1s/step - loss: 0.8133 - accuracy: 0.669\n",
      "Epoch 13/30\n",
      "7/7 [==============================] - 9s 1s/step - loss: 0.8133 - accuracy: 0.669\n",
      "Epoch 14/30\n",
      "7/7 [==============================] - 9s 1s/step - loss: 0.8133 - accuracy: 0.669\n",
      "Epoch 15/30\n",
      "7/7 [==============================] - 9s 1s/step - loss: 0.8133 - accuracy: 0.669\n",
      "Epoch 16/30\n",
      "7/7 [==============================] - 9s 1s/step - loss: 0.8133 - accuracy: 0.669\n",
      "Epoch 17/30\n",
      "7/7 [==============================] - 9s 1s/step - loss: 0.8133 - accuracy: 0.669\n",
      "Epoch 18/30\n",
      "7/7 [==============================] - 9s 1s/step - loss: 0.8133 - accuracy: 0.669\n",
      "Epoch 19/30\n",
      "7/7 [==============================] - 9s 1s/step - loss: 0.8133 - accuracy: 0.669\n",
      "Epoch 20/30\n",
      "7/7 [==============================] - 9s 1s/step - loss: 0.8133 - accuracy: 0.669\n",
      "Epoch 21/30\n",
      "7/7 [==============================] - 9s 1s/step - loss: 0.8133 - accuracy: 0.669\n",
      "Epoch 22/30\n",
      "7/7 [==============================] - 9s 1s/step - loss: 0.8133 - accuracy: 0.669\n",
      "Epoch 23/30\n",
      "7/7 [==============================] - 9s 1s/step - loss: 0.8133 - accuracy: 0.669\n",
      "Epoch 24/30\n",
      "7/7 [==============================] - 9s 1s/step - loss: 0.8133 - accuracy: 0.669\n",
      "Epoch 25/30\n",
      "7/7 [==============================] - 9s 1s/step - loss: 0.8133 - accuracy: 0.669\n",
      "Epoch 26/30\n",
      "7/7 [==============================] - 9s 1s/step - loss: 0.8133 - accuracy: 0.669\n",
      "Epoch 27/30\n",
      "7/7 [==============================] - 9s 1s/step - loss: 0.8133 - accuracy: 0.669\n",
      "Epoch 28/30\n",
      "7/7 [==============================] - 9s 1s/step - loss: 0.8133 - accuracy: 0.669\n",
      "Epoch 29/30\n",
      "7/7 [==============================] - 9s 1s/step - loss: 0.8133 - accuracy: 0.669\n",
      "Epoch 30/30\n",
      "7/7 [==============================] - 9s 1s/step - loss: 0.8133 - accuracy: 0.669\n"
     ]
    },
    {
     "data": {
      "text/plain": [
       "<keras.callbacks.History at 0x7ff89c156970>"
      ]
     },
     "execution_count": 21,
     "metadata": {},
     "output_type": "execute_result"
    }
   ],
   "source": [
    "m = NeuralNet(2, Chans =32, Samples=1000)\n",
    "m.compile(optimizer=\"SGD\", loss=\"BinaryCrossentropy\", metrics = [\"accuracy\"])\n",
    "m.fit(x_shuffled[0:218, 32:64,:1000],y_nn[0:218],epochs = 30)"
   ]
  },
  {
   "cell_type": "code",
   "execution_count": 22,
   "id": "271815ca-0e6c-414c-920e-7e2742c264ed",
   "metadata": {
    "collapsed": false,
    "gather": {
     "logged": 1655679867637
    },
    "jupyter": {
     "outputs_hidden": false,
     "source_hidden": false
    },
    "nteract": {
     "transient": {
      "deleting": false
     }
    }
   },
   "outputs": [
    {
     "name": "stdout",
     "output_type": "stream",
     "text": [
      "1/1 [==============================] - 1s 607ms/step - loss: 0.8133 - accuracy: 0.6667\n"
     ]
    },
    {
     "data": {
      "text/plain": [
       "[0.8132617473602295, 0.6666666865348816]"
      ]
     },
     "execution_count": 22,
     "metadata": {},
     "output_type": "execute_result"
    }
   ],
   "source": [
    "m.evaluate(x_shuffled[218:,32:64,0:1000], y_nn[218:])"
   ]
  },
  {
   "cell_type": "markdown",
   "id": "478cfd21-c58e-42ef-9ddb-07f50670266e",
   "metadata": {
    "nteract": {
     "transient": {
      "deleting": false
     }
    }
   },
   "source": [
    "## Run Against a CNN"
   ]
  },
  {
   "cell_type": "code",
   "execution_count": 23,
   "id": "69d8660d-a350-4f0a-901d-f738e7a9fda9",
   "metadata": {
    "collapsed": false,
    "gather": {
     "logged": 1655679915519
    },
    "jupyter": {
     "outputs_hidden": false,
     "source_hidden": false
    },
    "nteract": {
     "transient": {
      "deleting": false
     }
    }
   },
   "outputs": [
    {
     "name": "stdout",
     "output_type": "stream",
     "text": [
      "Epoch 1/30\n",
      "7/7 [==============================] - 8s 543ms/step - loss: 0.9714 - accuracy: 0.62\n",
      "Epoch 2/30\n",
      "7/7 [==============================] - 1s 192ms/step - loss: 0.7524 - accuracy: 0.62\n",
      "Epoch 3/30\n",
      "7/7 [==============================] - 1s 194ms/step - loss: 0.5575 - accuracy: 0.77\n",
      "Epoch 4/30\n",
      "7/7 [==============================] - 1s 193ms/step - loss: 0.5387 - accuracy: 0.75\n",
      "Epoch 5/30\n",
      "7/7 [==============================] - 1s 193ms/step - loss: 0.4443 - accuracy: 0.80\n",
      "Epoch 6/30\n",
      "7/7 [==============================] - 1s 194ms/step - loss: 0.3813 - accuracy: 0.85\n",
      "Epoch 7/30\n",
      "7/7 [==============================] - 1s 193ms/step - loss: 0.3972 - accuracy: 0.83\n",
      "Epoch 8/30\n",
      "7/7 [==============================] - 1s 195ms/step - loss: 0.4758 - accuracy: 0.77\n",
      "Epoch 9/30\n",
      "7/7 [==============================] - 1s 194ms/step - loss: 0.3801 - accuracy: 0.82\n",
      "Epoch 10/30\n",
      "7/7 [==============================] - 1s 193ms/step - loss: 0.3104 - accuracy: 0.88\n",
      "Epoch 11/30\n",
      "7/7 [==============================] - 1s 192ms/step - loss: 0.2173 - accuracy: 0.90\n",
      "Epoch 12/30\n",
      "7/7 [==============================] - 1s 195ms/step - loss: 0.1991 - accuracy: 0.94\n",
      "Epoch 13/30\n",
      "7/7 [==============================] - 1s 194ms/step - loss: 0.1680 - accuracy: 0.96\n",
      "Epoch 14/30\n",
      "7/7 [==============================] - 1s 193ms/step - loss: 0.1640 - accuracy: 0.93\n",
      "Epoch 15/30\n",
      "7/7 [==============================] - 1s 194ms/step - loss: 0.1553 - accuracy: 0.92\n",
      "Epoch 16/30\n",
      "7/7 [==============================] - 1s 193ms/step - loss: 0.1410 - accuracy: 0.95\n",
      "Epoch 17/30\n",
      "7/7 [==============================] - 1s 193ms/step - loss: 0.1238 - accuracy: 0.95\n",
      "Epoch 18/30\n",
      "7/7 [==============================] - 1s 194ms/step - loss: 0.1087 - accuracy: 0.96\n",
      "Epoch 19/30\n",
      "7/7 [==============================] - 1s 193ms/step - loss: 0.0949 - accuracy: 0.97\n",
      "Epoch 20/30\n",
      "7/7 [==============================] - 1s 193ms/step - loss: 0.1172 - accuracy: 0.95\n",
      "Epoch 21/30\n",
      "7/7 [==============================] - 1s 193ms/step - loss: 0.0963 - accuracy: 0.97\n",
      "Epoch 22/30\n",
      "7/7 [==============================] - 1s 193ms/step - loss: 0.0802 - accuracy: 0.96\n",
      "Epoch 23/30\n",
      "7/7 [==============================] - 1s 193ms/step - loss: 0.0733 - accuracy: 0.97\n",
      "Epoch 24/30\n",
      "7/7 [==============================] - 1s 195ms/step - loss: 0.0723 - accuracy: 0.97\n",
      "Epoch 25/30\n",
      "7/7 [==============================] - 1s 195ms/step - loss: 0.0792 - accuracy: 0.97\n",
      "Epoch 26/30\n",
      "7/7 [==============================] - 1s 194ms/step - loss: 0.0534 - accuracy: 0.99\n",
      "Epoch 27/30\n",
      "7/7 [==============================] - 1s 193ms/step - loss: 0.0551 - accuracy: 0.99\n",
      "Epoch 28/30\n",
      "7/7 [==============================] - 1s 194ms/step - loss: 0.0442 - accuracy: 0.99\n",
      "Epoch 29/30\n",
      "7/7 [==============================] - 1s 192ms/step - loss: 0.0455 - accuracy: 0.99\n",
      "Epoch 30/30\n",
      "7/7 [==============================] - 1s 195ms/step - loss: 0.0276 - accuracy: 1.00\n"
     ]
    },
    {
     "data": {
      "text/plain": [
       "<keras.callbacks.History at 0x7ff87b77efd0>"
      ]
     },
     "execution_count": 23,
     "metadata": {},
     "output_type": "execute_result"
    }
   ],
   "source": [
    "\"\"\" Already Shuffled Above\"\"\" \n",
    "##Shuffle Data \n",
    "#shuffler = np.random.permutation(len(x))\n",
    "#x_shuffled = x[shuffler]\n",
    "#y_shuffled = y[shuffler]\n",
    "\n",
    "#Create Model and Run\n",
    "model = DeepConvNet(2, Chans = 129, Samples = 2500, dropoutRate = 0.5)\n",
    "model.compile(optimizer=\"Adam\", loss = \"BinaryCrossentropy\", metrics = ['accuracy'])\n",
    "model.fit(x_shuffled[0:218],y_nn[0:218],epochs = 30)"
   ]
  },
  {
   "cell_type": "code",
   "execution_count": 24,
   "id": "1a6b9c9c-1389-4ba1-894e-71cb60b4e21c",
   "metadata": {
    "collapsed": false,
    "gather": {
     "logged": 1655679916377
    },
    "jupyter": {
     "outputs_hidden": false,
     "source_hidden": false
    },
    "nteract": {
     "transient": {
      "deleting": false
     }
    }
   },
   "outputs": [
    {
     "name": "stdout",
     "output_type": "stream",
     "text": [
      "1/1 [==============================] - 1s 692ms/step - loss: 1.4684 - accuracy: 0.5833\n"
     ]
    },
    {
     "data": {
      "text/plain": [
       "[1.4683942794799805, 0.5833333134651184]"
      ]
     },
     "execution_count": 24,
     "metadata": {},
     "output_type": "execute_result"
    }
   ],
   "source": [
    "model.evaluate(x_shuffled[218:],y_nn[218:])"
   ]
  },
  {
   "cell_type": "code",
   "execution_count": 25,
   "id": "35117fd6-e3dd-4c4d-8152-886ff7ad0d50",
   "metadata": {
    "collapsed": false,
    "gather": {
     "logged": 1655679916705
    },
    "jupyter": {
     "outputs_hidden": false,
     "source_hidden": false
    },
    "nteract": {
     "transient": {
      "deleting": false
     }
    }
   },
   "outputs": [
    {
     "name": "stdout",
     "output_type": "stream",
     "text": [
      "[[1. 0.]\n",
      " [0. 1.]\n",
      " [0. 1.]\n",
      " [0. 1.]\n",
      " [1. 0.]\n",
      " [1. 0.]\n",
      " [1. 0.]\n",
      " [0. 1.]\n",
      " [0. 1.]\n",
      " [1. 0.]\n",
      " [1. 0.]\n",
      " [0. 1.]\n",
      " [1. 0.]\n",
      " [1. 0.]\n",
      " [1. 0.]\n",
      " [0. 1.]\n",
      " [1. 0.]\n",
      " [1. 0.]\n",
      " [1. 0.]\n",
      " [1. 0.]\n",
      " [1. 0.]\n",
      " [1. 0.]\n",
      " [0. 1.]\n",
      " [1. 0.]]\n"
     ]
    }
   ],
   "source": [
    "print(y_nn[218:])"
   ]
  },
  {
   "cell_type": "markdown",
   "id": "327ed8e3-1f04-4af3-bfce-aaf5db535068",
   "metadata": {
    "nteract": {
     "transient": {
      "deleting": false
     }
    }
   },
   "source": [
    "# New Tests from here..."
   ]
  },
  {
   "cell_type": "code",
   "execution_count": 26,
   "id": "a917d822-ffef-4c21-aa9b-a1201579c17a",
   "metadata": {
    "collapsed": false,
    "gather": {
     "logged": 1655679916887
    },
    "jupyter": {
     "outputs_hidden": false,
     "source_hidden": false
    },
    "nteract": {
     "transient": {
      "deleting": false
     }
    }
   },
   "outputs": [],
   "source": [
    "\"\"\"\n",
    " ARL_EEGModels - A collection of Convolutional Neural Network models for EEG\n",
    " Signal Processing and Classification, using Keras and Tensorflow\n",
    " Requirements:\n",
    "    (1) tensorflow == 2.X (as of this writing, 2.0 - 2.3 have been verified\n",
    "        as working)\n",
    " \n",
    " To run the EEG/MEG ERP classification sample script, you will also need\n",
    "    (4) mne >= 0.17.1\n",
    "    (5) PyRiemann >= 0.2.5\n",
    "    (6) scikit-learn >= 0.20.1\n",
    "    (7) matplotlib >= 2.2.3\n",
    "    \n",
    " To use:\n",
    "    \n",
    "    (1) Place this file in the PYTHONPATH variable in your IDE (i.e.: Spyder)\n",
    "    (2) Import the model as\n",
    "        \n",
    "        from EEGModels import EEGNet    \n",
    "        \n",
    "        model = EEGNet(nb_classes = ..., Chans = ..., Samples = ...)\n",
    "        \n",
    "    (3) Then compile and fit the model\n",
    "    \n",
    "        model.compile(loss = ..., optimizer = ..., metrics = ...)\n",
    "        fitted    = model.fit(...)\n",
    "        predicted = model.predict(...)\n",
    " Portions of this project are works of the United States Government and are not\n",
    " subject to domestic copyright protection under 17 USC Sec. 105.  Those \n",
    " portions are released world-wide under the terms of the Creative Commons Zero \n",
    " 1.0 (CC0) license.  \n",
    " \n",
    " Other portions of this project are subject to domestic copyright protection \n",
    " under 17 USC Sec. 105.  Those portions are licensed under the Apache 2.0 \n",
    " license.  The complete text of the license governing this material is in \n",
    " the file labeled LICENSE.TXT that is a part of this project's official \n",
    " distribution. \n",
    "\"\"\"\n",
    "\n",
    "from tensorflow.keras.models import Model\n",
    "from tensorflow.keras.layers import Dense, Activation, Permute, Dropout\n",
    "from tensorflow.keras.layers import Conv2D, MaxPooling2D, AveragePooling2D\n",
    "from tensorflow.keras.layers import SeparableConv2D, DepthwiseConv2D\n",
    "from tensorflow.keras.layers import BatchNormalization\n",
    "from tensorflow.keras.layers import SpatialDropout2D\n",
    "from tensorflow.keras.regularizers import l1_l2\n",
    "from tensorflow.keras.layers import Input, Flatten\n",
    "from tensorflow.keras.constraints import max_norm\n",
    "from tensorflow.keras import backend as K\n",
    "\n",
    "#Model1\n",
    "def EEGNet(nb_classes, Chans = 64, Samples = 128, \n",
    "             dropoutRate = 0.5, kernLength = 64, F1 = 8, \n",
    "             D = 2, F2 = 16, norm_rate = 0.25, dropoutType = 'Dropout'):\n",
    "    \"\"\" Keras Implementation of EEGNet\n",
    "    http://iopscience.iop.org/article/10.1088/1741-2552/aace8c/meta\n",
    "    Note that this implements the newest version of EEGNet and NOT the earlier\n",
    "    version (version v1 and v2 on arxiv). We strongly recommend using this\n",
    "    architecture as it performs much better and has nicer properties than\n",
    "    our earlier version. For example:\n",
    "        \n",
    "        1. Depthwise Convolutions to learn spatial filters within a \n",
    "        temporal convolution. The use of the depth_multiplier option maps \n",
    "        exactly to the number of spatial filters learned within a temporal\n",
    "        filter. This matches the setup of algorithms like FBCSP which learn \n",
    "        spatial filters within each filter in a filter-bank. This also limits \n",
    "        the number of free parameters to fit when compared to a fully-connected\n",
    "        convolution. \n",
    "        \n",
    "        2. Separable Convolutions to learn how to optimally combine spatial\n",
    "        filters across temporal bands. Separable Convolutions are Depthwise\n",
    "        Convolutions followed by (1x1) Pointwise Convolutions. \n",
    "        \n",
    "    \n",
    "    While the original paper used Dropout, we found that SpatialDropout2D \n",
    "    sometimes produced slightly better results for classification of ERP \n",
    "    signals. However, SpatialDropout2D significantly reduced performance \n",
    "    on the Oscillatory dataset (SMR, BCI-IV Dataset 2A). We recommend using\n",
    "    the default Dropout in most cases.\n",
    "        \n",
    "    Assumes the input signal is sampled at 128Hz. If you want to use this model\n",
    "    for any other sampling rate you will need to modify the lengths of temporal\n",
    "    kernels and average pooling size in blocks 1 and 2 as needed (double the \n",
    "    kernel lengths for double the sampling rate, etc). Note that we haven't \n",
    "    tested the model performance with this rule so this may not work well. \n",
    "    \n",
    "    The model with default parameters gives the EEGNet-8,2 model as discussed\n",
    "    in the paper. This model should do pretty well in general, although it is\n",
    "\tadvised to do some model searching to get optimal performance on your\n",
    "\tparticular dataset.\n",
    "    We set F2 = F1 * D (number of input filters = number of output filters) for\n",
    "    the SeparableConv2D layer. We haven't extensively tested other values of this\n",
    "    parameter (say, F2 < F1 * D for compressed learning, and F2 > F1 * D for\n",
    "    overcomplete). We believe the main parameters to focus on are F1 and D. \n",
    "    Inputs:\n",
    "        \n",
    "      nb_classes      : int, number of classes to classify\n",
    "      Chans, Samples  : number of channels and time points in the EEG data\n",
    "      dropoutRate     : dropout fraction\n",
    "      kernLength      : length of temporal convolution in first layer. We found\n",
    "                        that setting this to be half the sampling rate worked\n",
    "                        well in practice. For the SMR dataset in particular\n",
    "                        since the data was high-passed at 4Hz we used a kernel\n",
    "                        length of 32.     \n",
    "      F1, F2          : number of temporal filters (F1) and number of pointwise\n",
    "                        filters (F2) to learn. Default: F1 = 8, F2 = F1 * D. \n",
    "      D               : number of spatial filters to learn within each temporal\n",
    "                        convolution. Default: D = 2\n",
    "      dropoutType     : Either SpatialDropout2D or Dropout, passed as a string.\n",
    "    \"\"\"\n",
    "    \n",
    "    if dropoutType == 'SpatialDropout2D':\n",
    "        dropoutType = SpatialDropout2D\n",
    "    elif dropoutType == 'Dropout':\n",
    "        dropoutType = Dropout\n",
    "    else:\n",
    "        raise ValueError('dropoutType must be one of SpatialDropout2D '\n",
    "                         'or Dropout, passed as a string.')\n",
    "    \n",
    "    input1   = Input(shape = (Chans, Samples, 1))\n",
    "\n",
    "    ##################################################################\n",
    "    block1       = Conv2D(F1, (1, kernLength), padding = 'same',\n",
    "                                   input_shape = (Chans, Samples, 1),\n",
    "                                   use_bias = False)(input1)\n",
    "    block1       = BatchNormalization()(block1)\n",
    "    block1       = DepthwiseConv2D((Chans, 1), use_bias = False, \n",
    "                                   depth_multiplier = D,\n",
    "                                   depthwise_constraint = max_norm(1.))(block1)\n",
    "    block1       = BatchNormalization()(block1)\n",
    "    block1       = Activation('elu')(block1)\n",
    "    block1       = AveragePooling2D((1, 4))(block1)\n",
    "    block1       = dropoutType(dropoutRate)(block1)\n",
    "    \n",
    "    block2       = SeparableConv2D(F2, (1, 16),\n",
    "                                   use_bias = False, padding = 'same')(block1)\n",
    "    block2       = BatchNormalization()(block2)\n",
    "    block2       = Activation('elu')(block2)\n",
    "    block2       = AveragePooling2D((1, 8))(block2)\n",
    "    block2       = dropoutType(dropoutRate)(block2)\n",
    "        \n",
    "    flatten      = Flatten(name = 'flatten')(block2)\n",
    "    \n",
    "    dense        = Dense(nb_classes, name = 'dense', \n",
    "                         kernel_constraint = max_norm(norm_rate))(flatten)\n",
    "    softmax      = Activation('softmax', name = 'softmax')(dense)\n",
    "    \n",
    "    return Model(inputs=input1, outputs=softmax)\n",
    "\n",
    "\n",
    "\n",
    "#Model2\n",
    "def EEGNet_SSVEP(nb_classes = 12, Chans = 8, Samples = 256, \n",
    "             dropoutRate = 0.5, kernLength = 256, F1 = 96, \n",
    "             D = 1, F2 = 96, dropoutType = 'Dropout'):\n",
    "    \"\"\" SSVEP Variant of EEGNet, as used in [1]. \n",
    "    Inputs:\n",
    "        \n",
    "      nb_classes      : int, number of classes to classify\n",
    "      Chans, Samples  : number of channels and time points in the EEG data\n",
    "      dropoutRate     : dropout fraction\n",
    "      kernLength      : length of temporal convolution in first layer\n",
    "      F1, F2          : number of temporal filters (F1) and number of pointwise\n",
    "                        filters (F2) to learn. \n",
    "      D               : number of spatial filters to learn within each temporal\n",
    "                        convolution.\n",
    "      dropoutType     : Either SpatialDropout2D or Dropout, passed as a string.\n",
    "      \n",
    "      \n",
    "    [1]. Waytowich, N. et. al. (2018). Compact Convolutional Neural Networks\n",
    "    for Classification of Asynchronous Steady-State Visual Evoked Potentials.\n",
    "    Journal of Neural Engineering vol. 15(6). \n",
    "    http://iopscience.iop.org/article/10.1088/1741-2552/aae5d8\n",
    "    \"\"\"\n",
    "    \n",
    "    if dropoutType == 'SpatialDropout2D':\n",
    "        dropoutType = SpatialDropout2D\n",
    "    elif dropoutType == 'Dropout':\n",
    "        dropoutType = Dropout\n",
    "    else:\n",
    "        raise ValueError('dropoutType must be one of SpatialDropout2D '\n",
    "                         'or Dropout, passed as a string.')\n",
    "    \n",
    "    input1   = Input(shape = (Chans, Samples, 1))\n",
    "\n",
    "    ##################################################################\n",
    "    block1       = Conv2D(F1, (1, kernLength), padding = 'same',\n",
    "                                   input_shape = (Chans, Samples, 1),\n",
    "                                   use_bias = False)(input1)\n",
    "    block1       = BatchNormalization()(block1)\n",
    "    block1       = DepthwiseConv2D((Chans, 1), use_bias = False, \n",
    "                                   depth_multiplier = D,\n",
    "                                   depthwise_constraint = max_norm(1.))(block1)\n",
    "    block1       = BatchNormalization()(block1)\n",
    "    block1       = Activation('elu')(block1)\n",
    "    block1       = AveragePooling2D((1, 4))(block1)\n",
    "    block1       = dropoutType(dropoutRate)(block1)\n",
    "    \n",
    "    block2       = SeparableConv2D(F2, (1, 16),\n",
    "                                   use_bias = False, padding = 'same')(block1)\n",
    "    block2       = BatchNormalization()(block2)\n",
    "    block2       = Activation('elu')(block2)\n",
    "    block2       = AveragePooling2D((1, 8))(block2)\n",
    "    block2       = dropoutType(dropoutRate)(block2)\n",
    "        \n",
    "    flatten      = Flatten(name = 'flatten')(block2)\n",
    "    \n",
    "    dense        = Dense(nb_classes, name = 'dense')(flatten)\n",
    "    softmax      = Activation('softmax', name = 'softmax')(dense)\n",
    "    \n",
    "    return Model(inputs=input1, outputs=softmax)\n",
    "\n",
    "\n",
    "#Model3\n",
    "def EEGNet_old(nb_classes, Chans = 64, Samples = 128, regRate = 0.0001,\n",
    "           dropoutRate = 0.25, kernels = [(2, 32), (8, 4)], strides = (2, 4)):\n",
    "    \"\"\" Keras Implementation of EEGNet_v1 (https://arxiv.org/abs/1611.08024v2)\n",
    "    This model is the original EEGNet model proposed on arxiv\n",
    "            https://arxiv.org/abs/1611.08024v2\n",
    "    \n",
    "    with a few modifications: we use striding instead of max-pooling as this \n",
    "    helped slightly in classification performance while also providing a \n",
    "    computational speed-up. \n",
    "    \n",
    "    Note that we no longer recommend the use of this architecture, as the new\n",
    "    version of EEGNet performs much better overall and has nicer properties.\n",
    "    \n",
    "    Inputs:\n",
    "        \n",
    "        nb_classes     : total number of final categories\n",
    "        Chans, Samples : number of EEG channels and samples, respectively\n",
    "        regRate        : regularization rate for L1 and L2 regularizations\n",
    "        dropoutRate    : dropout fraction\n",
    "        kernels        : the 2nd and 3rd layer kernel dimensions (default is \n",
    "                         the [2, 32] x [8, 4] configuration)\n",
    "        strides        : the stride size (note that this replaces the max-pool\n",
    "                         used in the original paper)\n",
    "    \n",
    "    \"\"\"\n",
    "\n",
    "    # start the model\n",
    "    input_main   = Input((Chans, Samples))\n",
    "    layer1       = Conv2D(16, (Chans, 1), input_shape=(Chans, Samples, 1),\n",
    "                                 kernel_regularizer = l1_l2(l1=regRate, l2=regRate))(input_main)\n",
    "    layer1       = BatchNormalization()(layer1)\n",
    "    layer1       = Activation('elu')(layer1)\n",
    "    layer1       = Dropout(dropoutRate)(layer1)\n",
    "    \n",
    "    permute_dims = 2, 1, 3\n",
    "    permute1     = Permute(permute_dims)(layer1)\n",
    "    \n",
    "    layer2       = Conv2D(4, kernels[0], padding = 'same', \n",
    "                            kernel_regularizer=l1_l2(l1=0.0, l2=regRate),\n",
    "                            strides = strides)(permute1)\n",
    "    layer2       = BatchNormalization()(layer2)\n",
    "    layer2       = Activation('elu')(layer2)\n",
    "    layer2       = Dropout(dropoutRate)(layer2)\n",
    "    \n",
    "    layer3       = Conv2D(4, kernels[1], padding = 'same',\n",
    "                            kernel_regularizer=l1_l2(l1=0.0, l2=regRate),\n",
    "                            strides = strides)(layer2)\n",
    "    layer3       = BatchNormalization()(layer3)\n",
    "    layer3       = Activation('elu')(layer3)\n",
    "    layer3       = Dropout(dropoutRate)(layer3)\n",
    "    \n",
    "    flatten      = Flatten(name = 'flatten')(layer3)\n",
    "    \n",
    "    dense        = Dense(nb_classes, name = 'dense')(flatten)\n",
    "    softmax      = Activation('softmax', name = 'softmax')(dense)\n",
    "    \n",
    "    return Model(inputs=input_main, outputs=softmax)\n",
    "\n",
    "\n",
    "#Model4\n",
    "def DeepConvNet(nb_classes, Chans = 64, Samples = 256,\n",
    "                dropoutRate = 0.5):\n",
    "    \"\"\" Keras implementation of the Deep Convolutional Network as described in\n",
    "    Schirrmeister et. al. (2017), Human Brain Mapping.\n",
    "    \n",
    "    This implementation assumes the input is a 2-second EEG signal sampled at \n",
    "    128Hz, as opposed to signals sampled at 250Hz as described in the original\n",
    "    paper. We also perform temporal convolutions of length (1, 5) as opposed\n",
    "    to (1, 10) due to this sampling rate difference. \n",
    "    \n",
    "    Note that we use the max_norm constraint on all convolutional layers, as \n",
    "    well as the classification layer. We also change the defaults for the\n",
    "    BatchNormalization layer. We used this based on a personal communication \n",
    "    with the original authors.\n",
    "    \n",
    "                      ours        original paper\n",
    "    pool_size        1, 2        1, 3\n",
    "    strides          1, 2        1, 3\n",
    "    conv filters     1, 5        1, 10\n",
    "    \n",
    "    Note that this implementation has not been verified by the original \n",
    "    authors. \n",
    "    \n",
    "    \"\"\"\n",
    "\n",
    "    # start the model\n",
    "    input_main   = Input((Chans, Samples, 1))\n",
    "    block1       = Conv2D(25, (1, 5), \n",
    "                                 input_shape=(Chans, Samples, 1),\n",
    "                                 kernel_constraint = max_norm(2., axis=(0,1,2)))(input_main)\n",
    "    block1       = Conv2D(25, (Chans, 1),\n",
    "                                 kernel_constraint = max_norm(2., axis=(0,1,2)))(block1)\n",
    "    block1       = BatchNormalization(epsilon=1e-05, momentum=0.9)(block1)\n",
    "    block1       = Activation('elu')(block1)\n",
    "    block1       = MaxPooling2D(pool_size=(1, 2), strides=(1, 2))(block1)\n",
    "    block1       = Dropout(dropoutRate)(block1)\n",
    "  \n",
    "    block2       = Conv2D(50, (1, 5),\n",
    "                                 kernel_constraint = max_norm(2., axis=(0,1,2)))(block1)\n",
    "    block2       = BatchNormalization(epsilon=1e-05, momentum=0.9)(block2)\n",
    "    block2       = Activation('elu')(block2)\n",
    "    block2       = MaxPooling2D(pool_size=(1, 2), strides=(1, 2))(block2)\n",
    "    block2       = Dropout(dropoutRate)(block2)\n",
    "    \n",
    "    block3       = Conv2D(100, (1, 5),\n",
    "                                 kernel_constraint = max_norm(2., axis=(0,1,2)))(block2)\n",
    "    block3       = BatchNormalization(epsilon=1e-05, momentum=0.9)(block3)\n",
    "    block3       = Activation('elu')(block3)\n",
    "    block3       = MaxPooling2D(pool_size=(1, 2), strides=(1, 2))(block3)\n",
    "    block3       = Dropout(dropoutRate)(block3)\n",
    "    \n",
    "    block4       = Conv2D(200, (1, 5),\n",
    "                                 kernel_constraint = max_norm(2., axis=(0,1,2)))(block3)\n",
    "    block4       = BatchNormalization(epsilon=1e-05, momentum=0.9)(block4)\n",
    "    block4       = Activation('elu')(block4)\n",
    "    block4       = MaxPooling2D(pool_size=(1, 2), strides=(1, 2))(block4)\n",
    "    block4       = Dropout(dropoutRate)(block4)\n",
    "    \n",
    "    flatten      = Flatten()(block4)\n",
    "    \n",
    "    dense        = Dense(nb_classes, kernel_constraint = max_norm(0.5))(flatten)\n",
    "    softmax      = Activation('softmax')(dense)\n",
    "    \n",
    "    return Model(inputs=input_main, outputs=softmax)\n",
    "\n",
    "\n",
    "# need these for ShallowConvNet\n",
    "def square(x):\n",
    "    return K.square(x)\n",
    "\n",
    "def log(x):\n",
    "    return K.log(K.clip(x, min_value = 1e-7, max_value = 10000))   \n",
    "\n",
    "#model 5\n",
    "def ShallowConvNet(nb_classes, Chans = 64, Samples = 128, dropoutRate = 0.5):\n",
    "    \"\"\" Keras implementation of the Shallow Convolutional Network as described\n",
    "    in Schirrmeister et. al. (2017), Human Brain Mapping.\n",
    "    \n",
    "    Assumes the input is a 2-second EEG signal sampled at 128Hz. Note that in \n",
    "    the original paper, they do temporal convolutions of length 25 for EEG\n",
    "    data sampled at 250Hz. We instead use length 13 since the sampling rate is \n",
    "    roughly half of the 250Hz which the paper used. The pool_size and stride\n",
    "    in later layers is also approximately half of what is used in the paper.\n",
    "    \n",
    "    Note that we use the max_norm constraint on all convolutional layers, as \n",
    "    well as the classification layer. We also change the defaults for the\n",
    "    BatchNormalization layer. We used this based on a personal communication \n",
    "    with the original authors.\n",
    "    \n",
    "                     ours        original paper\n",
    "    pool_size        1, 35       1, 75\n",
    "    strides          1, 7        1, 15\n",
    "    conv filters     1, 13       1, 25    \n",
    "    \n",
    "    Note that this implementation has not been verified by the original \n",
    "    authors. We do note that this implementation reproduces the results in the\n",
    "    original paper with minor deviations. \n",
    "    \"\"\"\n",
    "\n",
    "    # start the model\n",
    "    input_main   = Input((Chans, Samples, 1))\n",
    "    block1       = Conv2D(40, (1, 13), \n",
    "                                 input_shape=(Chans, Samples, 1),\n",
    "                                 kernel_constraint = max_norm(2., axis=(0,1,2)))(input_main)\n",
    "    block1       = Conv2D(40, (Chans, 1), use_bias=False, \n",
    "                          kernel_constraint = max_norm(2., axis=(0,1,2)))(block1)\n",
    "    block1       = BatchNormalization(epsilon=1e-05, momentum=0.9)(block1)\n",
    "    block1       = Activation(square)(block1)\n",
    "    block1       = AveragePooling2D(pool_size=(1, 35), strides=(1, 7))(block1)\n",
    "    block1       = Activation(log)(block1)\n",
    "    block1       = Dropout(dropoutRate)(block1)\n",
    "    flatten      = Flatten()(block1)\n",
    "    dense        = Dense(nb_classes, kernel_constraint = max_norm(0.5))(flatten)\n",
    "    softmax      = Activation('softmax')(dense)\n",
    "    \n",
    "    return Model(inputs=input_main, outputs=softmax)"
   ]
  },
  {
   "cell_type": "code",
   "execution_count": 27,
   "id": "da201169-7eec-4619-bd29-76d186a7d01e",
   "metadata": {
    "collapsed": false,
    "gather": {
     "logged": 1655680067727
    },
    "jupyter": {
     "outputs_hidden": false,
     "source_hidden": false
    },
    "nteract": {
     "transient": {
      "deleting": false
     }
    }
   },
   "outputs": [
    {
     "name": "stdout",
     "output_type": "stream",
     "text": [
      "Epoch 1/30\n",
      "7/7 [==============================] - 10s 1s/step - loss: 0.7032 - accuracy: 0.59\n",
      "Epoch 2/30\n",
      "7/7 [==============================] - 5s 689ms/step - loss: 0.6068 - accuracy: 0.70\n",
      "Epoch 3/30\n",
      "7/7 [==============================] - 5s 690ms/step - loss: 0.5815 - accuracy: 0.72\n",
      "Epoch 4/30\n",
      "7/7 [==============================] - 5s 688ms/step - loss: 0.5595 - accuracy: 0.72\n",
      "Epoch 5/30\n",
      "7/7 [==============================] - 5s 695ms/step - loss: 0.5432 - accuracy: 0.74\n",
      "Epoch 6/30\n",
      "7/7 [==============================] - 5s 691ms/step - loss: 0.5185 - accuracy: 0.76\n",
      "Epoch 7/30\n",
      "7/7 [==============================] - 5s 690ms/step - loss: 0.4932 - accuracy: 0.75\n",
      "Epoch 8/30\n",
      "7/7 [==============================] - 5s 689ms/step - loss: 0.4943 - accuracy: 0.75\n",
      "Epoch 9/30\n",
      "7/7 [==============================] - 5s 689ms/step - loss: 0.4787 - accuracy: 0.78\n",
      "Epoch 10/30\n",
      "7/7 [==============================] - 5s 690ms/step - loss: 0.4707 - accuracy: 0.77\n",
      "Epoch 11/30\n",
      "7/7 [==============================] - 5s 693ms/step - loss: 0.4545 - accuracy: 0.78\n",
      "Epoch 12/30\n",
      "7/7 [==============================] - 5s 691ms/step - loss: 0.4457 - accuracy: 0.79\n",
      "Epoch 13/30\n",
      "7/7 [==============================] - 5s 692ms/step - loss: 0.4438 - accuracy: 0.81\n",
      "Epoch 14/30\n",
      "7/7 [==============================] - 5s 687ms/step - loss: 0.4170 - accuracy: 0.83\n",
      "Epoch 15/30\n",
      "7/7 [==============================] - 5s 692ms/step - loss: 0.4051 - accuracy: 0.83\n",
      "Epoch 16/30\n",
      "7/7 [==============================] - 5s 688ms/step - loss: 0.3996 - accuracy: 0.83\n",
      "Epoch 17/30\n",
      "7/7 [==============================] - 5s 688ms/step - loss: 0.3966 - accuracy: 0.86\n",
      "Epoch 18/30\n",
      "7/7 [==============================] - 5s 691ms/step - loss: 0.3834 - accuracy: 0.83\n",
      "Epoch 19/30\n",
      "7/7 [==============================] - 5s 688ms/step - loss: 0.3770 - accuracy: 0.87\n",
      "Epoch 20/30\n",
      "7/7 [==============================] - 5s 686ms/step - loss: 0.3756 - accuracy: 0.86\n",
      "Epoch 21/30\n",
      "7/7 [==============================] - 5s 687ms/step - loss: 0.3620 - accuracy: 0.86\n",
      "Epoch 22/30\n",
      "7/7 [==============================] - 5s 687ms/step - loss: 0.3653 - accuracy: 0.85\n",
      "Epoch 23/30\n",
      "7/7 [==============================] - 5s 688ms/step - loss: 0.3432 - accuracy: 0.88\n",
      "Epoch 24/30\n",
      "7/7 [==============================] - 5s 687ms/step - loss: 0.3536 - accuracy: 0.85\n",
      "Epoch 25/30\n",
      "7/7 [==============================] - 5s 688ms/step - loss: 0.3281 - accuracy: 0.87\n",
      "Epoch 26/30\n",
      "7/7 [==============================] - 5s 687ms/step - loss: 0.3277 - accuracy: 0.86\n",
      "Epoch 27/30\n",
      "7/7 [==============================] - 5s 687ms/step - loss: 0.3185 - accuracy: 0.87\n",
      "Epoch 28/30\n",
      "7/7 [==============================] - 5s 688ms/step - loss: 0.3042 - accuracy: 0.91\n",
      "Epoch 29/30\n",
      "7/7 [==============================] - 5s 688ms/step - loss: 0.2913 - accuracy: 0.91\n",
      "Epoch 30/30\n",
      "7/7 [==============================] - 5s 686ms/step - loss: 0.3023 - accuracy: 0.92\n"
     ]
    },
    {
     "data": {
      "text/plain": [
       "<keras.callbacks.History at 0x7ff7c43c5250>"
      ]
     },
     "execution_count": 27,
     "metadata": {},
     "output_type": "execute_result"
    }
   ],
   "source": [
    "model1 = EEGNet(2, Chans = 129, Samples = 2500, \n",
    "             dropoutRate = 0.5, kernLength = 500, F1 = 8, \n",
    "             D = 2, F2 = 16, norm_rate = 0.25, dropoutType = 'Dropout')\n",
    "model1.compile(optimizer=\"Adam\", loss = \"BinaryCrossentropy\", metrics = ['accuracy'])\n",
    "model1.fit(x_shuffled[0:218],y_nn[0:218],epochs = 30)"
   ]
  },
  {
   "cell_type": "code",
   "execution_count": 28,
   "id": "a94c6895-e719-4cd2-8406-c44da151e666",
   "metadata": {
    "collapsed": false,
    "gather": {
     "logged": 1655680069394
    },
    "jupyter": {
     "outputs_hidden": false,
     "source_hidden": false
    },
    "nteract": {
     "transient": {
      "deleting": false
     }
    }
   },
   "outputs": [
    {
     "name": "stdout",
     "output_type": "stream",
     "text": [
      "1/1 [==============================] - 2s 2s/step - loss: 0.5721 - accuracy: 0.7500\n"
     ]
    },
    {
     "data": {
      "text/plain": [
       "[0.5720745921134949, 0.75]"
      ]
     },
     "execution_count": 28,
     "metadata": {},
     "output_type": "execute_result"
    }
   ],
   "source": [
    "model1.evaluate(x_shuffled[218:],y_nn[218:])"
   ]
  },
  {
   "cell_type": "code",
   "execution_count": 29,
   "id": "60db2f9f-83d9-4154-9719-0992858cd500",
   "metadata": {
    "collapsed": false,
    "gather": {
     "logged": 1655680329562
    },
    "jupyter": {
     "outputs_hidden": false,
     "source_hidden": false
    },
    "nteract": {
     "transient": {
      "deleting": false
     }
    }
   },
   "outputs": [
    {
     "name": "stdout",
     "output_type": "stream",
     "text": [
      "Epoch 1/50\n",
      "7/7 [==============================] - 30s 3s/step - loss: 0.8487 - accuracy: 0.60\n",
      "Epoch 2/50\n",
      "7/7 [==============================] - 5s 667ms/step - loss: 0.6261 - accuracy: 0.69\n",
      "Epoch 3/50\n",
      "7/7 [==============================] - 5s 667ms/step - loss: 0.6506 - accuracy: 0.67\n",
      "Epoch 4/50\n",
      "7/7 [==============================] - 5s 671ms/step - loss: 0.6186 - accuracy: 0.71\n",
      "Epoch 5/50\n",
      "7/7 [==============================] - 5s 665ms/step - loss: 0.6141 - accuracy: 0.68\n",
      "Epoch 6/50\n",
      "7/7 [==============================] - 5s 666ms/step - loss: 0.5386 - accuracy: 0.78\n",
      "Epoch 7/50\n",
      "7/7 [==============================] - 5s 668ms/step - loss: 0.5145 - accuracy: 0.77\n",
      "Epoch 8/50\n",
      "7/7 [==============================] - 5s 669ms/step - loss: 0.5147 - accuracy: 0.77\n",
      "Epoch 9/50\n",
      "7/7 [==============================] - 5s 664ms/step - loss: 0.4935 - accuracy: 0.79\n",
      "Epoch 10/50\n",
      "7/7 [==============================] - 5s 670ms/step - loss: 0.4130 - accuracy: 0.84\n",
      "Epoch 11/50\n",
      "7/7 [==============================] - 5s 672ms/step - loss: 0.4268 - accuracy: 0.82\n",
      "Epoch 12/50\n",
      "7/7 [==============================] - 5s 668ms/step - loss: 0.4050 - accuracy: 0.84\n",
      "Epoch 13/50\n",
      "7/7 [==============================] - 5s 668ms/step - loss: 0.3623 - accuracy: 0.86\n",
      "Epoch 14/50\n",
      "7/7 [==============================] - 5s 669ms/step - loss: 0.3324 - accuracy: 0.89\n",
      "Epoch 15/50\n",
      "7/7 [==============================] - 5s 668ms/step - loss: 0.3046 - accuracy: 0.90\n",
      "Epoch 16/50\n",
      "7/7 [==============================] - 5s 666ms/step - loss: 0.2907 - accuracy: 0.89\n",
      "Epoch 17/50\n",
      "7/7 [==============================] - 5s 667ms/step - loss: 0.2660 - accuracy: 0.90\n",
      "Epoch 18/50\n",
      "7/7 [==============================] - 5s 666ms/step - loss: 0.2812 - accuracy: 0.89\n",
      "Epoch 19/50\n",
      "7/7 [==============================] - 5s 670ms/step - loss: 0.2265 - accuracy: 0.92\n",
      "Epoch 20/50\n",
      "7/7 [==============================] - 5s 670ms/step - loss: 0.2071 - accuracy: 0.94\n",
      "Epoch 21/50\n",
      "7/7 [==============================] - 5s 667ms/step - loss: 0.2089 - accuracy: 0.93\n",
      "Epoch 22/50\n",
      "7/7 [==============================] - 5s 665ms/step - loss: 0.1978 - accuracy: 0.94\n",
      "Epoch 23/50\n",
      "7/7 [==============================] - 5s 669ms/step - loss: 0.1696 - accuracy: 0.94\n",
      "Epoch 24/50\n",
      "7/7 [==============================] - 5s 668ms/step - loss: 0.1417 - accuracy: 0.97\n",
      "Epoch 25/50\n",
      "7/7 [==============================] - 5s 666ms/step - loss: 0.1413 - accuracy: 0.97\n",
      "Epoch 26/50\n",
      "7/7 [==============================] - 5s 669ms/step - loss: 0.1091 - accuracy: 0.96\n",
      "Epoch 27/50\n",
      "7/7 [==============================] - 5s 670ms/step - loss: 0.1189 - accuracy: 0.97\n",
      "Epoch 28/50\n",
      "7/7 [==============================] - 5s 666ms/step - loss: 0.0858 - accuracy: 0.99\n",
      "Epoch 29/50\n",
      "7/7 [==============================] - 5s 668ms/step - loss: 0.0878 - accuracy: 0.98\n",
      "Epoch 30/50\n",
      "7/7 [==============================] - 5s 668ms/step - loss: 0.0930 - accuracy: 0.96\n",
      "Epoch 31/50\n",
      "7/7 [==============================] - 5s 667ms/step - loss: 0.1005 - accuracy: 0.98\n",
      "Epoch 32/50\n",
      "7/7 [==============================] - 5s 669ms/step - loss: 0.0768 - accuracy: 0.98\n",
      "Epoch 33/50\n",
      "7/7 [==============================] - 5s 667ms/step - loss: 0.0717 - accuracy: 0.99\n",
      "Epoch 34/50\n",
      "7/7 [==============================] - 5s 674ms/step - loss: 0.0545 - accuracy: 0.99\n",
      "Epoch 35/50\n",
      "7/7 [==============================] - 5s 669ms/step - loss: 0.0685 - accuracy: 0.98\n",
      "Epoch 36/50\n",
      "7/7 [==============================] - 5s 666ms/step - loss: 0.0442 - accuracy: 0.99\n",
      "Epoch 37/50\n",
      "7/7 [==============================] - 5s 667ms/step - loss: 0.0446 - accuracy: 0.99\n",
      "Epoch 38/50\n",
      "7/7 [==============================] - 5s 668ms/step - loss: 0.0538 - accuracy: 0.98\n",
      "Epoch 39/50\n",
      "7/7 [==============================] - 5s 671ms/step - loss: 0.0311 - accuracy: 0.99\n",
      "Epoch 40/50\n",
      "7/7 [==============================] - 5s 663ms/step - loss: 0.0628 - accuracy: 0.98\n",
      "Epoch 41/50\n",
      "7/7 [==============================] - 5s 670ms/step - loss: 0.0411 - accuracy: 0.99\n",
      "Epoch 42/50\n",
      "7/7 [==============================] - 5s 668ms/step - loss: 0.0432 - accuracy: 0.99\n",
      "Epoch 43/50\n",
      "7/7 [==============================] - 5s 669ms/step - loss: 0.0302 - accuracy: 0.99\n",
      "Epoch 44/50\n",
      "7/7 [==============================] - 5s 664ms/step - loss: 0.0324 - accuracy: 0.99\n",
      "Epoch 45/50\n",
      "7/7 [==============================] - 5s 669ms/step - loss: 0.0340 - accuracy: 0.99\n",
      "Epoch 46/50\n",
      "7/7 [==============================] - 5s 668ms/step - loss: 0.0395 - accuracy: 0.98\n",
      "Epoch 47/50\n",
      "7/7 [==============================] - 5s 667ms/step - loss: 0.0412 - accuracy: 0.98\n",
      "Epoch 48/50\n",
      "7/7 [==============================] - 5s 670ms/step - loss: 0.0503 - accuracy: 0.98\n",
      "Epoch 49/50\n",
      "7/7 [==============================] - 5s 666ms/step - loss: 0.0486 - accuracy: 0.97\n",
      "Epoch 50/50\n",
      "7/7 [==============================] - 5s 660ms/step - loss: 0.0561 - accuracy: 0.98\n"
     ]
    },
    {
     "data": {
      "text/plain": [
       "<keras.callbacks.History at 0x7ff7c4123d60>"
      ]
     },
     "execution_count": 29,
     "metadata": {},
     "output_type": "execute_result"
    }
   ],
   "source": [
    "model2 = EEGNet_SSVEP(nb_classes = 2, Chans = 129, Samples = 1000, \n",
    "             dropoutRate = 0.5, kernLength = 256, F1 = 96, \n",
    "             D = 1, F2 = 96, dropoutType = 'Dropout')\n",
    "model2.compile(optimizer=\"Adam\", loss = \"BinaryCrossentropy\", metrics = ['accuracy'])\n",
    "model2.fit(x_shuffled[0:218,:,0:1000],y_nn[0:218],epochs = 30)"
   ]
  },
  {
   "cell_type": "code",
   "execution_count": 30,
   "id": "4169237d-a490-4944-9f2f-1180305e4423",
   "metadata": {
    "collapsed": false,
    "gather": {
     "logged": 1655680339822
    },
    "jupyter": {
     "outputs_hidden": false,
     "source_hidden": false
    },
    "nteract": {
     "transient": {
      "deleting": false
     }
    }
   },
   "outputs": [
    {
     "name": "stdout",
     "output_type": "stream",
     "text": [
      "1/1 [==============================] - 10s 10s/step - loss: 0.7105 - accuracy: 0.5833\n"
     ]
    },
    {
     "data": {
      "text/plain": [
       "[0.7104942202568054, 0.5833333134651184]"
      ]
     },
     "execution_count": 30,
     "metadata": {},
     "output_type": "execute_result"
    }
   ],
   "source": [
    "model2.evaluate(x_shuffled[218:,:,0:1000],y_nn[218:])"
   ]
  },
  {
   "cell_type": "code",
   "execution_count": 31,
   "id": "2c782231-5fcb-4bec-92fd-8c0129935978",
   "metadata": {
    "collapsed": true,
    "gather": {
     "logged": 1655680340077
    },
    "jupyter": {
     "outputs_hidden": true,
     "source_hidden": false
    },
    "nteract": {
     "transient": {
      "deleting": false
     }
    }
   },
   "outputs": [
    {
     "data": {
      "text/plain": [
       "'model3 = EEGNet_old(2, Chans = 129, Samples = 1000, regRate = 0.0001,\\n           dropoutRate = 0.25, kernels = [(2, 32), (8, 4)], strides = (2, 4))\\nmodel3.compile(optimizer=\"Adam\", loss = \"mse\", metrics = [\\'accuracy\\'])\\nmodel3.fit(x_shuffled[0:218,:,0:1000],y_shuffled[0:218],epochs = 50)'"
      ]
     },
     "execution_count": 31,
     "metadata": {},
     "output_type": "execute_result"
    }
   ],
   "source": [
    "#Not Working..\n",
    "\"\"\"model3 = EEGNet_old(2, Chans = 129, Samples = 1000, regRate = 0.0001,\n",
    "           dropoutRate = 0.25, kernels = [(2, 32), (8, 4)], strides = (2, 4))\n",
    "model3.compile(optimizer=\"Adam\", loss = \"mse\", metrics = ['accuracy'])\n",
    "model3.fit(x_shuffled[0:218,:,0:1000],y_shuffled[0:218],epochs = 50)\"\"\""
   ]
  },
  {
   "cell_type": "code",
   "execution_count": 32,
   "id": "7ac972ae-2d7f-47f5-be33-f98834b1fc2d",
   "metadata": {
    "collapsed": false,
    "gather": {
     "logged": 1655680340316
    },
    "jupyter": {
     "outputs_hidden": false,
     "source_hidden": false
    },
    "nteract": {
     "transient": {
      "deleting": false
     }
    }
   },
   "outputs": [
    {
     "data": {
      "text/plain": [
       "'model3.evaluate(x_shuffled[218:,:,0:1000],y_shuffled[218:])'"
      ]
     },
     "execution_count": 32,
     "metadata": {},
     "output_type": "execute_result"
    }
   ],
   "source": [
    "\"\"\"model3.evaluate(x_shuffled[218:,:,0:1000],y_shuffled[218:])\"\"\""
   ]
  },
  {
   "cell_type": "code",
   "execution_count": 33,
   "id": "652a08ed-8810-4469-bf25-b121abb32b0a",
   "metadata": {
    "collapsed": false,
    "gather": {
     "logged": 1655680375688
    },
    "jupyter": {
     "outputs_hidden": false,
     "source_hidden": false
    },
    "nteract": {
     "transient": {
      "deleting": false
     }
    }
   },
   "outputs": [
    {
     "name": "stdout",
     "output_type": "stream",
     "text": [
      "Epoch 1/50\n",
      "7/7 [==============================] - 6s 404ms/step - loss: 0.8435 - accuracy: 0.61\n",
      "Epoch 2/50\n",
      "7/7 [==============================] - 1s 86ms/step - loss: 0.7284 - accuracy: 0.637\n",
      "Epoch 3/50\n",
      "7/7 [==============================] - 1s 87ms/step - loss: 0.6483 - accuracy: 0.646\n",
      "Epoch 4/50\n",
      "7/7 [==============================] - 1s 86ms/step - loss: 0.6811 - accuracy: 0.678\n",
      "Epoch 5/50\n",
      "7/7 [==============================] - 1s 87ms/step - loss: 0.5573 - accuracy: 0.724\n",
      "Epoch 6/50\n",
      "7/7 [==============================] - 1s 87ms/step - loss: 0.5637 - accuracy: 0.752\n",
      "Epoch 7/50\n",
      "7/7 [==============================] - 1s 87ms/step - loss: 0.5456 - accuracy: 0.747\n",
      "Epoch 8/50\n",
      "7/7 [==============================] - 1s 86ms/step - loss: 0.4526 - accuracy: 0.798\n",
      "Epoch 9/50\n",
      "7/7 [==============================] - 1s 87ms/step - loss: 0.4195 - accuracy: 0.798\n",
      "Epoch 10/50\n",
      "7/7 [==============================] - 1s 86ms/step - loss: 0.3644 - accuracy: 0.871\n",
      "Epoch 11/50\n",
      "7/7 [==============================] - 1s 88ms/step - loss: 0.3755 - accuracy: 0.830\n",
      "Epoch 12/50\n",
      "7/7 [==============================] - 1s 88ms/step - loss: 0.3218 - accuracy: 0.844\n",
      "Epoch 13/50\n",
      "7/7 [==============================] - 1s 87ms/step - loss: 0.3003 - accuracy: 0.871\n",
      "Epoch 14/50\n",
      "7/7 [==============================] - 1s 85ms/step - loss: 0.2951 - accuracy: 0.889\n",
      "Epoch 15/50\n",
      "7/7 [==============================] - 1s 87ms/step - loss: 0.2982 - accuracy: 0.885\n",
      "Epoch 16/50\n",
      "7/7 [==============================] - 1s 89ms/step - loss: 0.2768 - accuracy: 0.880\n",
      "Epoch 17/50\n",
      "7/7 [==============================] - 1s 88ms/step - loss: 0.2374 - accuracy: 0.917\n",
      "Epoch 18/50\n",
      "7/7 [==============================] - 1s 86ms/step - loss: 0.1987 - accuracy: 0.940\n",
      "Epoch 19/50\n",
      "7/7 [==============================] - 1s 87ms/step - loss: 0.2121 - accuracy: 0.908\n",
      "Epoch 20/50\n",
      "7/7 [==============================] - 1s 87ms/step - loss: 0.1727 - accuracy: 0.958\n",
      "Epoch 21/50\n",
      "7/7 [==============================] - 1s 89ms/step - loss: 0.1498 - accuracy: 0.967\n",
      "Epoch 22/50\n",
      "7/7 [==============================] - 1s 87ms/step - loss: 0.1707 - accuracy: 0.917\n",
      "Epoch 23/50\n",
      "7/7 [==============================] - 1s 86ms/step - loss: 0.1938 - accuracy: 0.922\n",
      "Epoch 24/50\n",
      "7/7 [==============================] - 1s 86ms/step - loss: 0.1645 - accuracy: 0.940\n",
      "Epoch 25/50\n",
      "7/7 [==============================] - 1s 86ms/step - loss: 0.1164 - accuracy: 0.972\n",
      "Epoch 26/50\n",
      "7/7 [==============================] - 1s 88ms/step - loss: 0.1142 - accuracy: 0.958\n",
      "Epoch 27/50\n",
      "7/7 [==============================] - 1s 88ms/step - loss: 0.1033 - accuracy: 0.972\n",
      "Epoch 28/50\n",
      "7/7 [==============================] - 1s 88ms/step - loss: 0.0942 - accuracy: 0.977\n",
      "Epoch 29/50\n",
      "7/7 [==============================] - 1s 86ms/step - loss: 0.0705 - accuracy: 0.995\n",
      "Epoch 30/50\n",
      "7/7 [==============================] - 1s 86ms/step - loss: 0.0842 - accuracy: 0.981\n",
      "Epoch 31/50\n",
      "7/7 [==============================] - 1s 87ms/step - loss: 0.0809 - accuracy: 0.972\n",
      "Epoch 32/50\n",
      "7/7 [==============================] - 1s 87ms/step - loss: 0.0916 - accuracy: 0.972\n",
      "Epoch 33/50\n",
      "7/7 [==============================] - 1s 86ms/step - loss: 0.0689 - accuracy: 0.981\n",
      "Epoch 34/50\n",
      "7/7 [==============================] - 1s 87ms/step - loss: 0.0660 - accuracy: 0.981\n",
      "Epoch 35/50\n",
      "7/7 [==============================] - 1s 86ms/step - loss: 0.0583 - accuracy: 0.995\n",
      "Epoch 36/50\n",
      "7/7 [==============================] - 1s 86ms/step - loss: 0.0604 - accuracy: 0.981\n",
      "Epoch 37/50\n",
      "7/7 [==============================] - 1s 88ms/step - loss: 0.0874 - accuracy: 0.981\n",
      "Epoch 38/50\n",
      "7/7 [==============================] - 1s 86ms/step - loss: 0.0861 - accuracy: 0.972\n",
      "Epoch 39/50\n",
      "7/7 [==============================] - 1s 85ms/step - loss: 0.0936 - accuracy: 0.967\n",
      "Epoch 40/50\n",
      "7/7 [==============================] - 1s 86ms/step - loss: 0.0783 - accuracy: 0.977\n",
      "Epoch 41/50\n",
      "7/7 [==============================] - 1s 86ms/step - loss: 0.0556 - accuracy: 0.990\n",
      "Epoch 42/50\n",
      "7/7 [==============================] - 1s 88ms/step - loss: 0.0482 - accuracy: 0.990\n",
      "Epoch 43/50\n",
      "7/7 [==============================] - 1s 86ms/step - loss: 0.0533 - accuracy: 0.986\n",
      "Epoch 44/50\n",
      "7/7 [==============================] - 1s 86ms/step - loss: 0.0437 - accuracy: 0.995\n",
      "Epoch 45/50\n",
      "7/7 [==============================] - 1s 86ms/step - loss: 0.0362 - accuracy: 1.000\n",
      "Epoch 46/50\n",
      "7/7 [==============================] - 1s 86ms/step - loss: 0.0398 - accuracy: 0.995\n",
      "Epoch 47/50\n",
      "7/7 [==============================] - 1s 86ms/step - loss: 0.0976 - accuracy: 0.949\n",
      "Epoch 48/50\n",
      "7/7 [==============================] - 1s 86ms/step - loss: 0.0711 - accuracy: 0.986\n",
      "Epoch 49/50\n",
      "7/7 [==============================] - 1s 89ms/step - loss: 0.0730 - accuracy: 0.977\n",
      "Epoch 50/50\n",
      "7/7 [==============================] - 1s 85ms/step - loss: 0.0782 - accuracy: 0.963\n"
     ]
    },
    {
     "data": {
      "text/plain": [
       "<keras.callbacks.History at 0x7ff7b2ad9dc0>"
      ]
     },
     "execution_count": 33,
     "metadata": {},
     "output_type": "execute_result"
    }
   ],
   "source": [
    "model4 = DeepConvNet(2, Chans = 129, Samples = 1000, dropoutRate = 0.5)\n",
    "model4.compile(optimizer=\"Adam\", loss = \"BinaryCrossentropy\", metrics = ['accuracy'])\n",
    "model4.fit(x_shuffled[0:218,:,0:1000],y_nn[0:218],epochs = 30)"
   ]
  },
  {
   "cell_type": "code",
   "execution_count": 34,
   "id": "fe4c4696-a033-4243-a9d0-5f072a7466e0",
   "metadata": {
    "collapsed": false,
    "gather": {
     "logged": 1655680376434
    },
    "jupyter": {
     "outputs_hidden": false,
     "source_hidden": false
    },
    "nteract": {
     "transient": {
      "deleting": false
     }
    }
   },
   "outputs": [
    {
     "name": "stdout",
     "output_type": "stream",
     "text": [
      "WARNING:tensorflow:5 out of the last 5 calls to <function Model.make_test_function.<locals>.test_function at 0x7ff7b2b55e50> triggered tf.function retracing. Tracing is expensive and the excessive number of tracings could be due to (1) creating @tf.function repeatedly in a loop, (2) passing tensors with different shapes, (3) passing Python objects instead of tensors. For (1), please define your @tf.function outside of the loop. For (2), @tf.function has reduce_retracing=True option that can avoid unnecessary retracing. For (3), please refer to https://www.tensorflow.org/guide/function#controlling_retracing and https://www.tensorflow.org/api_docs/python/tf/function for  more details.\n",
      "1/1 [==============================] - 1s 630ms/step - loss: 1.0391 - accuracy: 0.7083\n"
     ]
    },
    {
     "data": {
      "text/plain": [
       "[1.0390626192092896, 0.7083333134651184]"
      ]
     },
     "execution_count": 34,
     "metadata": {},
     "output_type": "execute_result"
    }
   ],
   "source": [
    "model4.evaluate(x_shuffled[218:,:,0:1000],y_nn[218:])"
   ]
  },
  {
   "cell_type": "code",
   "execution_count": 35,
   "id": "659c4a22-07a1-4354-80c5-31be1d334fcc",
   "metadata": {
    "collapsed": true,
    "gather": {
     "logged": 1655680433060
    },
    "jupyter": {
     "outputs_hidden": true,
     "source_hidden": false
    },
    "nteract": {
     "transient": {
      "deleting": false
     }
    }
   },
   "outputs": [
    {
     "name": "stdout",
     "output_type": "stream",
     "text": [
      "Epoch 1/50\n",
      "7/7 [==============================] - 7s 533ms/step - loss: 0.9567 - accuracy: 0.55\n",
      "Epoch 2/50\n",
      "7/7 [==============================] - 1s 143ms/step - loss: 0.8005 - accuracy: 0.66\n",
      "Epoch 3/50\n",
      "7/7 [==============================] - 1s 143ms/step - loss: 0.6953 - accuracy: 0.68\n",
      "Epoch 4/50\n",
      "7/7 [==============================] - 1s 145ms/step - loss: 0.6172 - accuracy: 0.72\n",
      "Epoch 5/50\n",
      "7/7 [==============================] - 1s 145ms/step - loss: 0.5144 - accuracy: 0.77\n",
      "Epoch 6/50\n",
      "7/7 [==============================] - 1s 143ms/step - loss: 0.5081 - accuracy: 0.77\n",
      "Epoch 7/50\n",
      "7/7 [==============================] - 1s 143ms/step - loss: 0.4422 - accuracy: 0.80\n",
      "Epoch 8/50\n",
      "7/7 [==============================] - 1s 144ms/step - loss: 0.4554 - accuracy: 0.78\n",
      "Epoch 9/50\n",
      "7/7 [==============================] - 1s 144ms/step - loss: 0.3673 - accuracy: 0.88\n",
      "Epoch 10/50\n",
      "7/7 [==============================] - 1s 143ms/step - loss: 0.4122 - accuracy: 0.81\n",
      "Epoch 11/50\n",
      "7/7 [==============================] - 1s 143ms/step - loss: 0.3471 - accuracy: 0.88\n",
      "Epoch 12/50\n",
      "7/7 [==============================] - 1s 144ms/step - loss: 0.3658 - accuracy: 0.83\n",
      "Epoch 13/50\n",
      "7/7 [==============================] - 1s 142ms/step - loss: 0.3012 - accuracy: 0.89\n",
      "Epoch 14/50\n",
      "7/7 [==============================] - 1s 147ms/step - loss: 0.3396 - accuracy: 0.84\n",
      "Epoch 15/50\n",
      "7/7 [==============================] - 1s 144ms/step - loss: 0.2550 - accuracy: 0.90\n",
      "Epoch 16/50\n",
      "7/7 [==============================] - 1s 145ms/step - loss: 0.2822 - accuracy: 0.86\n",
      "Epoch 17/50\n",
      "7/7 [==============================] - 1s 144ms/step - loss: 0.2345 - accuracy: 0.90\n",
      "Epoch 18/50\n",
      "7/7 [==============================] - 1s 143ms/step - loss: 0.1833 - accuracy: 0.97\n",
      "Epoch 19/50\n",
      "7/7 [==============================] - 1s 144ms/step - loss: 0.2455 - accuracy: 0.90\n",
      "Epoch 20/50\n",
      "7/7 [==============================] - 1s 143ms/step - loss: 0.1801 - accuracy: 0.94\n",
      "Epoch 21/50\n",
      "7/7 [==============================] - 1s 143ms/step - loss: 0.1720 - accuracy: 0.94\n",
      "Epoch 22/50\n",
      "7/7 [==============================] - 1s 143ms/step - loss: 0.1472 - accuracy: 0.96\n",
      "Epoch 23/50\n",
      "7/7 [==============================] - 1s 142ms/step - loss: 0.1367 - accuracy: 0.94\n",
      "Epoch 24/50\n",
      "7/7 [==============================] - 1s 144ms/step - loss: 0.1517 - accuracy: 0.94\n",
      "Epoch 25/50\n",
      "7/7 [==============================] - 1s 142ms/step - loss: 0.1292 - accuracy: 0.97\n",
      "Epoch 26/50\n",
      "7/7 [==============================] - 1s 143ms/step - loss: 0.1028 - accuracy: 0.99\n",
      "Epoch 27/50\n",
      "7/7 [==============================] - 1s 143ms/step - loss: 0.0917 - accuracy: 0.98\n",
      "Epoch 28/50\n",
      "7/7 [==============================] - 1s 142ms/step - loss: 0.1034 - accuracy: 0.98\n",
      "Epoch 29/50\n",
      "7/7 [==============================] - 1s 143ms/step - loss: 0.0891 - accuracy: 0.99\n",
      "Epoch 30/50\n",
      "7/7 [==============================] - 1s 142ms/step - loss: 0.0966 - accuracy: 0.98\n",
      "Epoch 31/50\n",
      "7/7 [==============================] - 1s 143ms/step - loss: 0.0851 - accuracy: 0.98\n",
      "Epoch 32/50\n",
      "7/7 [==============================] - 1s 144ms/step - loss: 0.0705 - accuracy: 0.99\n",
      "Epoch 33/50\n",
      "7/7 [==============================] - 1s 142ms/step - loss: 0.0656 - accuracy: 0.99\n",
      "Epoch 34/50\n",
      "7/7 [==============================] - 1s 145ms/step - loss: 0.0802 - accuracy: 0.98\n",
      "Epoch 35/50\n",
      "7/7 [==============================] - 1s 142ms/step - loss: 0.0723 - accuracy: 0.98\n",
      "Epoch 36/50\n",
      "7/7 [==============================] - 1s 144ms/step - loss: 0.0831 - accuracy: 0.97\n",
      "Epoch 37/50\n",
      "7/7 [==============================] - 1s 143ms/step - loss: 0.0832 - accuracy: 0.97\n",
      "Epoch 38/50\n",
      "7/7 [==============================] - 1s 143ms/step - loss: 0.0791 - accuracy: 0.98\n",
      "Epoch 39/50\n",
      "7/7 [==============================] - 1s 144ms/step - loss: 0.0512 - accuracy: 0.98\n",
      "Epoch 40/50\n",
      "7/7 [==============================] - 1s 143ms/step - loss: 0.0476 - accuracy: 0.99\n",
      "Epoch 41/50\n",
      "7/7 [==============================] - 1s 144ms/step - loss: 0.0451 - accuracy: 0.99\n",
      "Epoch 42/50\n",
      "7/7 [==============================] - 1s 146ms/step - loss: 0.0422 - accuracy: 1.00\n",
      "Epoch 43/50\n",
      "7/7 [==============================] - 1s 142ms/step - loss: 0.0439 - accuracy: 0.99\n",
      "Epoch 44/50\n",
      "7/7 [==============================] - 1s 144ms/step - loss: 0.0402 - accuracy: 0.99\n",
      "Epoch 45/50\n",
      "7/7 [==============================] - 1s 145ms/step - loss: 0.0733 - accuracy: 0.97\n",
      "Epoch 46/50\n",
      "7/7 [==============================] - 1s 143ms/step - loss: 0.0360 - accuracy: 1.00\n",
      "Epoch 47/50\n",
      "7/7 [==============================] - 1s 145ms/step - loss: 0.0610 - accuracy: 0.98\n",
      "Epoch 48/50\n",
      "7/7 [==============================] - 1s 144ms/step - loss: 0.0226 - accuracy: 1.00\n",
      "Epoch 49/50\n",
      "7/7 [==============================] - 1s 142ms/step - loss: 0.0250 - accuracy: 1.00\n",
      "Epoch 50/50\n",
      "7/7 [==============================] - 1s 142ms/step - loss: 0.0298 - accuracy: 1.00\n"
     ]
    },
    {
     "data": {
      "text/plain": [
       "<keras.callbacks.History at 0x7ff7b2878e20>"
      ]
     },
     "execution_count": 35,
     "metadata": {},
     "output_type": "execute_result"
    }
   ],
   "source": [
    "model5 = ShallowConvNet(2, Chans = 129, Samples = 1000, dropoutRate = 0.5)\n",
    "model5.compile(optimizer=\"Adam\", loss = \"BinaryCrossentropy\", metrics = ['accuracy'])\n",
    "model5.fit(x_shuffled[0:218,:,0:1000],y_nn[0:218],epochs = 30)"
   ]
  },
  {
   "cell_type": "code",
   "execution_count": 36,
   "id": "f0c8fef2-0e9b-4a3f-a3fe-fef7ea094574",
   "metadata": {
    "collapsed": false,
    "gather": {
     "logged": 1655680434030
    },
    "jupyter": {
     "outputs_hidden": false,
     "source_hidden": false
    },
    "nteract": {
     "transient": {
      "deleting": false
     }
    }
   },
   "outputs": [
    {
     "name": "stdout",
     "output_type": "stream",
     "text": [
      "WARNING:tensorflow:6 out of the last 6 calls to <function Model.make_test_function.<locals>.test_function at 0x7ff7b27ae4c0> triggered tf.function retracing. Tracing is expensive and the excessive number of tracings could be due to (1) creating @tf.function repeatedly in a loop, (2) passing tensors with different shapes, (3) passing Python objects instead of tensors. For (1), please define your @tf.function outside of the loop. For (2), @tf.function has reduce_retracing=True option that can avoid unnecessary retracing. For (3), please refer to https://www.tensorflow.org/guide/function#controlling_retracing and https://www.tensorflow.org/api_docs/python/tf/function for  more details.\n",
      "1/1 [==============================] - 0s 445ms/step - loss: 1.9071 - accuracy: 0.5833\n"
     ]
    },
    {
     "data": {
      "text/plain": [
       "[1.9071162939071655, 0.5833333134651184]"
      ]
     },
     "execution_count": 36,
     "metadata": {},
     "output_type": "execute_result"
    }
   ],
   "source": [
    "model5.evaluate(x_shuffled[218:,:,0:1000],y_nn[218:])"
   ]
  },
  {
   "cell_type": "code",
   "execution_count": 37,
   "id": "776f7f53-b6d8-4af3-ba6a-7b80c56d64ea",
   "metadata": {
    "collapsed": false,
    "gather": {
     "logged": 1655680434253
    },
    "jupyter": {
     "outputs_hidden": false,
     "source_hidden": false
    },
    "nteract": {
     "transient": {
      "deleting": false
     }
    }
   },
   "outputs": [
    {
     "data": {
      "text/plain": [
       "'#ReShuffle Data\\nshuffler = np.random.permutation(len(x))\\nx_shuffled = x_shuffled[shuffler]\\ny_shuffled = y_shuffled[shuffler]'"
      ]
     },
     "execution_count": 37,
     "metadata": {},
     "output_type": "execute_result"
    }
   ],
   "source": [
    "\"\"\"#ReShuffle Data\n",
    "shuffler = np.random.permutation(len(x))\n",
    "x_shuffled = x_shuffled[shuffler]\n",
    "y_shuffled = y_shuffled[shuffler]\"\"\""
   ]
  }
 ],
 "metadata": {
  "kernel_info": {
   "name": "python3"
  },
  "kernelspec": {
   "display_name": "Python 3 (ipykernel)",
   "language": "python",
   "name": "python3"
  },
  "language_info": {
   "codemirror_mode": {
    "name": "ipython",
    "version": 3
   },
   "file_extension": ".py",
   "mimetype": "text/x-python",
   "name": "python",
   "nbconvert_exporter": "python",
   "pygments_lexer": "ipython3",
   "version": "3.9.13"
  },
  "microsoft": {
   "host": {
    "AzureML": {
     "notebookHasBeenCompleted": true
    }
   }
  },
  "nteract": {
   "version": "nteract-front-end@1.0.0"
  }
 },
 "nbformat": 4,
 "nbformat_minor": 5
}
