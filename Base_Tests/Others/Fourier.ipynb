{
 "cells": [
  {
   "cell_type": "code",
   "execution_count": 1,
   "id": "844c01b4-a122-4f5d-a690-069069c193cc",
   "metadata": {},
   "outputs": [],
   "source": [
    "import numpy as np"
   ]
  },
  {
   "cell_type": "code",
   "execution_count": 2,
   "id": "f412f000-555b-4e79-b600-6f90d1a4ae9e",
   "metadata": {},
   "outputs": [],
   "source": [
    "import matplotlib.pyplot as plt\n",
    "from matplotlib.cm import get_cmap"
   ]
  },
  {
   "cell_type": "code",
   "execution_count": 3,
   "id": "34fc7da5-1205-4dbf-94b4-e69e39ddb53e",
   "metadata": {},
   "outputs": [],
   "source": [
    "plt.rcParams['figure.figsize'] = [8,8]\n",
    "plt.rcParams.update({'font.size':18})"
   ]
  },
  {
   "cell_type": "code",
   "execution_count": 3,
   "id": "1033006a-1c25-44de-bb40-ada31fa0cae3",
   "metadata": {
    "tags": []
   },
   "outputs": [],
   "source": [
    "#Define Domain\n",
    "dx = 0.01\n",
    "L = np.pi\n",
    "x = L * np.arange(-1+dx, 1+dx, dx) #Vini - I believe -1 is not needed ... \n",
    "n = len(x)\n",
    "nquart = int(np.floor(n/4))"
   ]
  },
  {
   "cell_type": "code",
   "execution_count": 4,
   "id": "a4c160c8-8595-4d6f-9a7a-01c168190270",
   "metadata": {
    "tags": []
   },
   "outputs": [],
   "source": [
    "#Define Hat Function\n",
    "f = np.zeros_like(x)\n",
    "    #Between 0 and nquart = 0\n",
    "f[nquart:2*nquart] = (4/n)*np.arange(1,nquart+1)\n",
    "f[2*nquart:3*nquart] = np.ones(nquart) - (4/n)*np.arange(0,nquart)\n",
    "    # between 3rd quart and 4th quart = 0"
   ]
  },
  {
   "cell_type": "code",
   "execution_count": 5,
   "id": "08a22c76-b0b9-4bfe-8dc9-996dfc48565e",
   "metadata": {},
   "outputs": [
    {
     "data": {
      "text/plain": [
       "[<matplotlib.lines.Line2D at 0x107b9efa0>]"
      ]
     },
     "execution_count": 5,
     "metadata": {},
     "output_type": "execute_result"
    },
    {
     "data": {
      "image/png": "[encoded data removed]",
      "text/plain": [
       "<Figure size 432x288 with 1 Axes>"
      ]
     },
     "metadata": {
      "needs_background": "light"
     },
     "output_type": "display_data"
    }
   ],
   "source": [
    "#Define Ploting\n",
    "fig, ax = plt.subplots()\n",
    "ax.plot(x,f,'-', color='k', linewidth = 2)"
   ]
  },
  {
   "cell_type": "code",
   "execution_count": 6,
   "id": "dc643dd3-7030-4372-bc94-c1129128a113",
   "metadata": {
    "tags": []
   },
   "outputs": [],
   "source": [
    "#Compute Fourier Series\n",
    "\n",
    "##Setup graphic colors\n",
    "name = \"Accent\"\n",
    "cmap = get_cmap('tab10')\n",
    "colors = cmap.colors\n",
    "ax.set_prop_cycle(color=colors)\n",
    "\n",
    "\n",
    "A0 = np.sum(f*np.ones_like(x))*dx\n",
    "fFS = A0/2\n",
    "\n",
    "A = np.zeros(20)\n",
    "B = np.zeros(20)\n",
    "\n",
    "for k in range(20):\n",
    "    A[k] = np.sum(f*np.cos(np.pi*(k+1)*x/L))*dx #Inner product\n",
    "    B[k] = np.sum(f*np.sin(np.pi*(k+1)*x/L))*dx\n",
    "    fFS = fFS + A[k]*np.cos((k+1)*np.pi*x/L) + B[k]*np.sin((k+1)*np.pi*x/L)\n",
    "    ax.plot(x,fFS,'-', linewidth = 1)\n"
   ]
  },
  {
   "cell_type": "code",
   "execution_count": 9,
   "id": "cebf3f94-3648-4845-9669-f76279eae472",
   "metadata": {},
   "outputs": [],
   "source": [
    "plt.show()"
   ]
  },
  {
   "cell_type": "code",
   "execution_count": null,
   "id": "1cb3e929-170b-47d6-9896-d0c712d1097b",
   "metadata": {},
   "outputs": [],
   "source": []
  }
 ],
 "metadata": {
  "kernelspec": {
   "display_name": "Python 3 (ipykernel)",
   "language": "python",
   "name": "python3"
  },
  "language_info": {
   "codemirror_mode": {
    "name": "ipython",
    "version": 3
   },
   "file_extension": ".py",
   "mimetype": "text/x-python",
   "name": "python",
   "nbconvert_exporter": "python",
   "pygments_lexer": "ipython3",
   "version": "3.9.13"
  },
  "toc-autonumbering": false,
  "toc-showcode": false,
  "toc-showmarkdowntxt": false
 },
 "nbformat": 4,
 "nbformat_minor": 5
}
