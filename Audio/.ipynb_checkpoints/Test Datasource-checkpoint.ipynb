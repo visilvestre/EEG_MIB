{
 "cells": [
  {
   "cell_type": "code",
   "execution_count": 173,
   "id": "2dce4cf1-cfd3-4689-8dfe-3b6862acf8e9",
   "metadata": {},
   "outputs": [],
   "source": [
    "import os\n",
    "import torch\n",
    "from torch.utils.data import Dataset\n",
    "import scipy\n",
    "import numpy as np\n",
    "import matplotlib.pyplot as plt\n",
    "import pandas as pd\n",
    "import torchaudio"
   ]
  },
  {
   "cell_type": "code",
   "execution_count": 174,
   "id": "4f804d56-8765-44cf-a5ab-50928ee497fb",
   "metadata": {},
   "outputs": [],
   "source": [
    "#Parameters\n",
    "USE_GPU = 1\n",
    "VERBOSE = 1\n",
    "ANNOTATIONS_FILE = \"data/StimuliAudio/metadata/stimuli.csv\"\n",
    "AUDIO_DIR = \"data/StimuliAudio/audio/\"\n",
    "SAMPLE_RATE = 48000\n",
    "NUM_SAMPLES = 180000\n",
    "USE_GPU = 0\n"
   ]
  },
  {
   "cell_type": "code",
   "execution_count": 175,
   "id": "d67ae71e-e8f7-423c-be1f-04067e3e212e",
   "metadata": {},
   "outputs": [
    {
     "name": "stdout",
     "output_type": "stream",
     "text": [
      "Using cpu\n"
     ]
    }
   ],
   "source": [
    "# select a device\n",
    "if USE_GPU == 1:\n",
    "    if torch.cuda.is_available():\n",
    "        device = \"cuda\"\n",
    "    elif torch.backends.mps.is_available():\n",
    "        device = \"mps\"\n",
    "    else:\n",
    "        device = \"cpu\"\n",
    "    print(f\"Using {device}\")\n",
    "else:\n",
    "    device = \"cpu\"\n",
    "    print(f\"Using {device}\")\n",
    "    \n",
    "DEVICE = device"
   ]
  },
  {
   "cell_type": "code",
   "execution_count": 176,
   "id": "4851530c-f0e8-4a6b-867d-5b26efaa59c7",
   "metadata": {},
   "outputs": [],
   "source": [
    "class StimuliAudioDataset(Dataset):\n",
    "\n",
    "    def __init__(self,\n",
    "                 annotations_file,\n",
    "                 audio_dir,\n",
    "                 transformation,\n",
    "                 target_sample_rate,\n",
    "                 num_samples,\n",
    "                 device):\n",
    "        self.annotations = pd.read_csv(annotations_file)\n",
    "        self.audio_dir = audio_dir\n",
    "        self.device = device\n",
    "        self.transformation = transformation.to(self.device)\n",
    "        self.target_sample_rate = target_sample_rate\n",
    "        self.num_samples = num_samples\n",
    "        \n",
    "\n",
    "    def __len__(self):\n",
    "        return len(self.annotations)\n",
    "\n",
    "    def __getitem__(self, index):\n",
    "        audio_sample_path = self._get_audio_sample_path(index)\n",
    "        label = self._get_audio_sample_label(index)\n",
    "        signal, sr = torchaudio.load(audio_sample_path)\n",
    "        signal = signal.to(self.device)                     # target signal tensor to specific device\n",
    "        signal = self._resample_if_necessary(signal, sr)    # if audio out of 16000 num_samples, resample until 16000             \n",
    "        signal = self._mix_down_if_necessary(signal)        # given (num_channels, num_samples) >> if (2,1600) , reshape to (1, 1600)\n",
    "        signal = self._cut_if_necessary(signal)             # If num_samples > self.num_samples, truncate the end until num_samples = num_samples\n",
    "        signal = self._right_pad_if_necessary(signal)       # If num_samples < self.num_samples, add zero padding until num_samples = num_samples [1,1,1] --> [1,1,1,0,0]\n",
    "        signal = self.transformation(signal)                # mel_spectogram application\n",
    "        return signal, label\n",
    "\n",
    "    def _cut_if_necessary(self, signal):\n",
    "        if signal.shape[1] > self.num_samples:\n",
    "            signal = signal[:, :self.num_samples]\n",
    "        return signal\n",
    "\n",
    "    def _right_pad_if_necessary(self, signal):\n",
    "        length_signal = signal.shape[1]\n",
    "        if length_signal < self.num_samples:\n",
    "            num_missing_samples = self.num_samples - length_signal\n",
    "            last_dim_padding = (0, num_missing_samples)\n",
    "            signal = torch.nn.functional.pad(signal, last_dim_padding)\n",
    "        return signal\n",
    "\n",
    "    def _resample_if_necessary(self, signal, sr):\n",
    "        if sr != self.target_sample_rate:\n",
    "            resampler = torchaudio.transforms.Resample(sr, self.target_sample_rate)\n",
    "            signal = resampler(signal)  # edited to add device\n",
    "        return signal\n",
    "\n",
    "    def _mix_down_if_necessary(self, signal):\n",
    "        if signal.shape[0] > 1:\n",
    "            signal = torch.mean(signal, dim=0, keepdim=True)\n",
    "        return signal\n",
    "\n",
    "    def _get_audio_sample_path(self, index):\n",
    "        path = os.path.join(self.audio_dir, self.annotations.iloc[index, 0])\n",
    "        return path\n",
    "\n",
    "    def _get_audio_sample_label(self, index):\n",
    "        return self.annotations.iloc[index, 3]"
   ]
  },
  {
   "cell_type": "code",
   "execution_count": 177,
   "id": "d3fd6c9b-2231-4ed3-a171-a06f9170a483",
   "metadata": {
    "tags": []
   },
   "outputs": [
    {
     "name": "stdout",
     "output_type": "stream",
     "text": [
      "Using cpu\n",
      "There are 12 samples in the dataset.\n"
     ]
    }
   ],
   "source": [
    "if __name__ == \"__main__\":\n",
    "    \n",
    "    # Select Device\n",
    "    if USE_GPU == 1:\n",
    "        # select a device\n",
    "        if torch.cuda.is_available():\n",
    "            device = \"cuda\"\n",
    "        elif torch.backends.mps.is_available():\n",
    "            device = \"mps\"\n",
    "        else:\n",
    "            device = \"cpu\"\n",
    "        print(f\"Using {device}\")\n",
    "    else:\n",
    "        device = \"cpu\"\n",
    "        print(f\"Using {device}\")\n",
    "    \n",
    "    # Mel Spectrogram \n",
    "    mel_spectrogram = torchaudio.transforms.MelSpectrogram(\n",
    "        sample_rate=SAMPLE_RATE,\n",
    "        n_fft=1024,\n",
    "        hop_length=512,\n",
    "        n_mels=64\n",
    "    )\n",
    "    mel_spectrogram.to(device)\n",
    "\n",
    "    # Create Dataset\n",
    "    usd = StimuliAudioDataset(ANNOTATIONS_FILE,\n",
    "                            AUDIO_DIR,\n",
    "                            mel_spectrogram,\n",
    "                            SAMPLE_RATE,\n",
    "                            NUM_SAMPLES,\n",
    "                            device = device)\n",
    "    \n",
    "    print(f\"There are {len(usd)} samples in the dataset.\")\n",
    "    "
   ]
  },
  {
   "cell_type": "code",
   "execution_count": 178,
   "id": "278ab1f9-a671-4d7a-b52d-03cace59cc63",
   "metadata": {},
   "outputs": [
    {
     "name": "stdout",
     "output_type": "stream",
     "text": [
      "Label: 3\n"
     ]
    },
    {
     "data": {
      "image/png": "[encoded data removed]",
      "text/plain": [
       "<Figure size 432x288 with 1 Axes>"
      ]
     },
     "metadata": {
      "needs_background": "light"
     },
     "output_type": "display_data"
    }
   ],
   "source": [
    "signal, label = usd[2]\n",
    "usd[0][0].shape # after mel spectogram: torch.Size([1, 64, 352])\n",
    "plt.imshow(usd[2][0][0])\n",
    "print(f'Label: {label}')\n",
    "\n",
    "#Every 30000 one new tone (0.625 seconds), last 30000 does not play anything (0.625 seconds).. "
   ]
  },
  {
   "cell_type": "code",
   "execution_count": 179,
   "id": "a478e65f-d5df-4d57-9275-72beb9eca452",
   "metadata": {},
   "outputs": [
    {
     "data": {
      "text/plain": [
       "torch.Size([1, 64, 352])"
      ]
     },
     "execution_count": 179,
     "metadata": {},
     "output_type": "execute_result"
    }
   ],
   "source": [
    "signal.shape"
   ]
  },
  {
   "cell_type": "code",
   "execution_count": null,
   "id": "d5ca9b02-30db-495c-9199-b1335429df5e",
   "metadata": {},
   "outputs": [],
   "source": []
  }
 ],
 "metadata": {
  "kernelspec": {
   "display_name": "Python 3 (ipykernel)",
   "language": "python",
   "name": "python3"
  },
  "language_info": {
   "codemirror_mode": {
    "name": "ipython",
    "version": 3
   },
   "file_extension": ".py",
   "mimetype": "text/x-python",
   "name": "python",
   "nbconvert_exporter": "python",
   "pygments_lexer": "ipython3",
   "version": "3.9.13"
  }
 },
 "nbformat": 4,
 "nbformat_minor": 5
}
