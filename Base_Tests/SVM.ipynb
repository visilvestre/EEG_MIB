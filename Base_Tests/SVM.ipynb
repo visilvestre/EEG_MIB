{
 "cells": [
  {
   "cell_type": "code",
   "execution_count": 9,
   "id": "308cc701-e518-47b1-b41d-1aa4acf21940",
   "metadata": {},
   "outputs": [],
   "source": [
    "import numpy as np\n",
    "from matplotlib import pyplot as plt"
   ]
  },
  {
   "cell_type": "code",
   "execution_count": 10,
   "id": "6787f814-646d-4f87-b0de-d0a296578beb",
   "metadata": {},
   "outputs": [],
   "source": [
    "def svm(x,y):\n",
    "    \"\"\"\n",
    "        ::: Parameters :::\n",
    "        w = Weights\n",
    "        l_rate = Learning rate\n",
    "        epoch = epochs to run\n",
    "        Out = Output\n",
    "        \n",
    "        \n",
    "    \"\"\"\n",
    "    #Initialize weight, learning rate, epoch, output\n",
    "    w = np.zeros(x[0].shape)\n",
    "    l_rate = 1\n",
    "    epoch = 10\n",
    "    out = []\n",
    "    \n",
    "    #Training SVM\n",
    "    for e in range(epoch):\n",
    "        for i, val in enumerate(x):\n",
    "            val1 = np.dot(x[i], w)\n",
    "            if (y[i]*val1 < 1):\n",
    "                w = w + l_rate * ((y[i]*x[i])-2*(1/epoch)*w)\n",
    "            else:\n",
    "                w = w + l_rate * (-2*(1/epoch)*w)\n",
    "    \n",
    "    for i, val in enumerate(x):\n",
    "        out.append(np.dot(x[i],w))\n",
    "    \n",
    "    return w, out"
   ]
  },
  {
   "cell_type": "code",
   "execution_count": 11,
   "id": "cf1eb70c-a570-4f51-9ad3-f93a9360eeb0",
   "metadata": {},
   "outputs": [],
   "source": [
    "#Input data\n",
    "x = np.array([\n",
    "    [-2,4,-1],\n",
    "    [4,1,-1],\n",
    "    [1, 6, -1],\n",
    "    [2, 4, -1],\n",
    "    [6, 2, -1],\n",
    "\n",
    "])\n",
    "\n",
    "\n",
    "#output label\n",
    "y = np.array([-1, -1, 1, 1, 1])"
   ]
  },
  {
   "cell_type": "code",
   "execution_count": 14,
   "id": "f5675d6c-32b4-4f21-a7d1-990bd2d49088",
   "metadata": {},
   "outputs": [
    {
     "data": {
      "text/plain": [
       "[<matplotlib.lines.Line2D at 0x7f8b041f1220>]"
      ]
     },
     "execution_count": 14,
     "metadata": {},
     "output_type": "execute_result"
    },
    {
     "data": {
      "image/png": "[encoded data removed]",
      "text/plain": [
       "<Figure size 432x288 with 1 Axes>"
      ]
     },
     "metadata": {
      "needs_background": "light"
     },
     "output_type": "display_data"
    }
   ],
   "source": [
    "#Plot before SVM test\n",
    "for val, inp in enumerate(x):\n",
    "    if y[val] == -1:\n",
    "        plt.scatter(inp[0], inp[1], s=100, marker='_', linewidths=5)\n",
    "    else:\n",
    "        plt.scatter(inp[0], inp[1], s=100, marker='+', linewidths=5)\n",
    "\n",
    "plt.plot([-2,6],[6,1]) #Line dividing data to give an idea of what SVM should build"
   ]
  },
  {
   "cell_type": "code",
   "execution_count": 15,
   "id": "089c32bf-a9ba-473c-8df9-fae27db56942",
   "metadata": {},
   "outputs": [],
   "source": [
    "w, out = svm(x,y)"
   ]
  },
  {
   "cell_type": "code",
   "execution_count": 17,
   "id": "d725b3f4-4372-4a65-9a60-c148293a42d4",
   "metadata": {},
   "outputs": [
    {
     "data": {
      "text/plain": [
       "<matplotlib.quiver.Quiver at 0x7f8b043c8550>"
      ]
     },
     "execution_count": 17,
     "metadata": {},
     "output_type": "execute_result"
    },
    {
     "data": {
      "image/png": "[encoded data removed]",
      "text/plain": [
       "<Figure size 432x288 with 1 Axes>"
      ]
     },
     "metadata": {
      "needs_background": "light"
     },
     "output_type": "display_data"
    }
   ],
   "source": [
    "#Testing#\n",
    "u = np.array([\n",
    "    [-1,3,-1],\n",
    "    [5,5,-1], \n",
    "])\n",
    "   \n",
    "    \n",
    "for val, inp in enumerate(x):\n",
    "    if y[val] == -1:\n",
    "        plt.scatter(inp[0], inp[1], s=100, marker='_', linewidths=5)\n",
    "    else:\n",
    "        plt.scatter(inp[0], inp[1], s=100, marker='+', linewidths=5)\n",
    "\n",
    "plt.scatter(-1,3, s=100, marker='_', linewidths=5)   \n",
    "plt.scatter(5,5, s=100, marker='+', linewidths=5)   \n",
    "\n",
    "\n",
    "x1=[w[0],w[1],-w[1],w[0]]\n",
    "x2=[w[0],w[1],w[1],-w[0]]\n",
    "\n",
    "x1x2 =np.array([x1,x2])\n",
    "X,Y,U,V = zip(*x1x2)\n",
    "ax = plt.gca()\n",
    "ax.quiver(X,Y,U,V,scale=1, color='blue')"
   ]
  }
 ],
 "metadata": {
  "kernelspec": {
   "display_name": "Python 3",
   "language": "python",
   "name": "python3"
  },
  "language_info": {
   "codemirror_mode": {
    "name": "ipython",
    "version": 3
   },
   "file_extension": ".py",
   "mimetype": "text/x-python",
   "name": "python",
   "nbconvert_exporter": "python",
   "pygments_lexer": "ipython3",
   "version": "3.8.8"
  }
 },
 "nbformat": 4,
 "nbformat_minor": 5
}
